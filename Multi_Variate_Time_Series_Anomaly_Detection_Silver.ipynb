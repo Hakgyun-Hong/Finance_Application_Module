{
  "cells": [
    {
      "cell_type": "code",
      "execution_count": null,
      "metadata": {
        "id": "4ERJQX_DHKJ4"
      },
      "outputs": [],
      "source": []
    },
    {
      "cell_type": "markdown",
      "metadata": {
        "id": "6bwblTT7HDb6"
      },
      "source": [
        "# Get Multi-Variate Time Series Data"
      ]
    },
    {
      "cell_type": "code",
      "execution_count": null,
      "metadata": {
        "id": "Eir3-8C0G0A2"
      },
      "outputs": [],
      "source": [
        "#!wget https://s3-us-west-2.amazonaws.com/telemanom/data.zip"
      ]
    },
    {
      "cell_type": "code",
      "execution_count": null,
      "metadata": {
        "id": "vZFLIvurHCCS"
      },
      "outputs": [],
      "source": [
        "#!unzip -qq data.zip"
      ]
    },
    {
      "cell_type": "code",
      "execution_count": null,
      "metadata": {
        "id": "M3Wmw6SpHTEV"
      },
      "outputs": [],
      "source": [
        "#!ls data"
      ]
    },
    {
      "cell_type": "code",
      "execution_count": null,
      "metadata": {
        "id": "MlVonDchHVPn"
      },
      "outputs": [],
      "source": [
        "#!ls data/train"
      ]
    },
    {
      "cell_type": "code",
      "execution_count": null,
      "metadata": {
        "id": "q-bH7qt8HYIa"
      },
      "outputs": [],
      "source": [
        "#!ls data/test"
      ]
    },
    {
      "cell_type": "code",
      "execution_count": null,
      "metadata": {
        "colab": {
          "base_uri": "https://localhost:8080/"
        },
        "id": "BkbszwQvHaj2",
        "outputId": "0dfedff3-32be-442d-e6c5-aeab6f0f732e"
      },
      "outputs": [
        {
          "output_type": "stream",
          "name": "stdout",
          "text": [
            "fatal: destination path 'mtad-gat-pytorch' already exists and is not an empty directory.\n"
          ]
        }
      ],
      "source": [
        "!git clone https://github.com/ML4ITS/mtad-gat-pytorch.git"
      ]
    },
    {
      "cell_type": "code",
      "execution_count": null,
      "metadata": {
        "colab": {
          "base_uri": "https://localhost:8080/"
        },
        "id": "npr1PAhqHkoP",
        "outputId": "9f15d8c5-fc26-48f8-a3c2-ea597e8c5365"
      },
      "outputs": [
        {
          "output_type": "stream",
          "name": "stdout",
          "text": [
            "labeled_anomalies.csv  msl_train_md.csv  smap_train_md.csv\n"
          ]
        }
      ],
      "source": [
        "!ls mtad-gat-pytorch/datasets/data"
      ]
    },
    {
      "cell_type": "markdown",
      "metadata": {
        "id": "_uMiOZVTH1GF"
      },
      "source": [
        "# Import Libraries"
      ]
    },
    {
      "cell_type": "code",
      "execution_count": null,
      "metadata": {
        "id": "ZtkZvfp-H0Sb"
      },
      "outputs": [],
      "source": [
        "import pandas as pd\n",
        "import numpy as np\n",
        "import os\n",
        "import yfinance as yf\n",
        "\n",
        "import matplotlib.pyplot as plt\n",
        "import torch\n",
        "from torch.utils.data import DataLoader, Dataset, SubsetRandomSampler, SequentialSampler\n",
        "import torch.nn as nn\n",
        "from tqdm.notebook import tqdm\n",
        "import seaborn as sns\n"
      ]
    },
    {
      "cell_type": "code",
      "execution_count": null,
      "metadata": {
        "id": "JBcspDutIHma"
      },
      "outputs": [],
      "source": [
        "#smap_channels = pd.read_csv('mtad-gat-pytorch/datasets/data/smap_train_md.csv')\n",
        "#print(\"Number of Channels : \",len(smap_channels))\n",
        "#smap_channels.head(5)"
      ]
    },
    {
      "cell_type": "code",
      "execution_count": null,
      "metadata": {
        "id": "byk58oXFIYdp"
      },
      "outputs": [],
      "source": [
        "#smap_channels = list(smap_channels['chan_id'].values)\n",
        "#len(smap_channels)"
      ]
    },
    {
      "cell_type": "markdown",
      "metadata": {
        "id": "x83wbB2KIsRk"
      },
      "source": [
        "# Create SMAP Data from Time Series across all the Channel IDs - Each Time Step has 25 features"
      ]
    },
    {
      "cell_type": "code",
      "execution_count": null,
      "metadata": {
        "colab": {
          "base_uri": "https://localhost:8080/"
        },
        "id": "xWzB0ojGIpvY",
        "outputId": "6e6735c5-b053-4d5a-bf11-dc12d7c19a2e"
      },
      "outputs": [
        {
          "output_type": "stream",
          "name": "stdout",
          "text": [
            "[*********************100%***********************]  10 of 10 completed\n",
            "            Adj Close                                                   \\\n",
            "                 CL=F  ENPH         GC=F    HG=F        QQQ       SI=F   \n",
            "Date                                                                     \n",
            "2013-01-02  93.120003  3.79  1687.900024  3.7245  61.228268  30.952000   \n",
            "2013-01-03  92.919998  3.73  1673.699951  3.7015  60.909382  30.671000   \n",
            "2013-01-04  93.089996  3.90  1648.099976  3.6785  60.708908  29.896000   \n",
            "2013-01-07  93.190002  3.75  1645.500000  3.6630  60.727146  30.032000   \n",
            "2013-01-08  93.150002  3.71  1661.500000  3.6570  60.608700  30.415001   \n",
            "\n",
            "                                                         ...    Volume  \\\n",
            "                  TIP      TSLA        ZN=F        ZT=F  ...      CL=F   \n",
            "Date                                                     ...             \n",
            "2013-01-02  95.703865  2.357333  132.140625  110.218750  ...  203865.0   \n",
            "2013-01-03  95.049271  2.318000  131.625000  110.195312  ...  189812.0   \n",
            "2013-01-04  95.009819  2.293333  131.515625  110.179688  ...  210747.0   \n",
            "2013-01-07  95.333191  2.289333  131.578125  110.179688  ...  166292.0   \n",
            "2013-01-08  95.467270  2.245333  131.859375  110.210938  ...  195867.0   \n",
            "\n",
            "                                                                              \\\n",
            "                ENPH   GC=F   HG=F         QQQ   SI=F        TIP        TSLA   \n",
            "Date                                                                           \n",
            "2013-01-02  234600.0   35.0  766.0  70695900.0   13.0  2805000.0  17922000.0   \n",
            "2013-01-03  155400.0  140.0  439.0  47366500.0   24.0  3622300.0  11130000.0   \n",
            "2013-01-04  221200.0  199.0  437.0  33972500.0  125.0   940600.0  10110000.0   \n",
            "2013-01-07  202300.0   49.0  359.0  26766200.0   91.0  1237600.0   6630000.0   \n",
            "2013-01-08   68400.0   17.0  363.0  28734900.0   57.0   899300.0  19260000.0   \n",
            "\n",
            "                                 \n",
            "                 ZN=F      ZT=F  \n",
            "Date                             \n",
            "2013-01-02   751382.0  147601.0  \n",
            "2013-01-03  1192256.0  154443.0  \n",
            "2013-01-04  1549140.0  322812.0  \n",
            "2013-01-07   680445.0  114801.0  \n",
            "2013-01-08   829629.0  208984.0  \n",
            "\n",
            "[5 rows x 60 columns]\n"
          ]
        }
      ],
      "source": [
        "smap_data =[]\n",
        "\n",
        "#1. Gold\n",
        "#gold = yf.Ticker(\"GC=F\")\n",
        "\n",
        "#2. Copper\n",
        "#copp = yf.Ticker(\"HG=F\")\n",
        "\n",
        "#3. Tsla\n",
        "#tsla = yf.Ticker(\"TSLA\")\n",
        "\n",
        "#4. Sunpower\n",
        "#enph = yf.Ticker(\"ENPH\")\n",
        "\n",
        "#5. Inflation\n",
        "#tip = yf.Ticker(\"TIP\")\n",
        "\n",
        "#6. Federal Fund Rate\n",
        "#fdr = fed_funds_rate\n",
        "\n",
        "#7. Nasdaq\n",
        "#qqq = yf.Ticker(\"QQQ\")\n",
        "\n",
        "#8. 2 Year Bond\n",
        "#t2y = yf.Ticker(\"ZT=F\")\n",
        "\n",
        "\n",
        "#10. Silver (label)\n",
        "#silv = yf.Ticker(\"SI=F\")\n",
        "\n",
        "\n",
        "df = pd.DataFrame()\n",
        "\n",
        "#구리/CPI/10년물 채권\n",
        "\n",
        "tickers = ['GC=F','HG=F', 'TSLA', 'ENPH', 'TIP','QQQ','ZT=F','ZN=F','CL=F','SI=F']\n",
        "\n",
        "# Download data for the tickers\n",
        "df = yf.download(tickers, start='2013-01-01', end='2023-05-30')\n",
        "\n",
        "# Print the data for the first 5 rows of each ticker\n",
        "print(df.head())\n",
        "\n",
        "#for smap_channel in smap_channels:\n",
        "#  tmp_data = np.load(os.path.join('data/train/',smap_channel+'.npy'))\n",
        "#  smap_data.extend(tmp_data)\n",
        "  #print(smap_data.shape)\n",
        "#smap_data = np.array(df.value)\n",
        "#smap_data = np.array(smap_data)\n",
        "#print(\"Shape of SMAP Data : \", smap_data.shape)"
      ]
    },
    {
      "cell_type": "code",
      "source": [
        "df.values"
      ],
      "metadata": {
        "colab": {
          "base_uri": "https://localhost:8080/"
        },
        "id": "JogHSzVBUrBP",
        "outputId": "bcbad3b8-06aa-4408-818a-b1bd20319f4f"
      },
      "execution_count": null,
      "outputs": [
        {
          "output_type": "execute_result",
          "data": {
            "text/plain": [
              "array([[9.31200027e+01, 3.78999996e+00, 1.68790002e+03, ...,\n",
              "        1.79220000e+07, 7.51382000e+05, 1.47601000e+05],\n",
              "       [9.29199982e+01, 3.73000002e+00, 1.67369995e+03, ...,\n",
              "        1.11300000e+07, 1.19225600e+06, 1.54443000e+05],\n",
              "       [9.30899963e+01, 3.90000010e+00, 1.64809998e+03, ...,\n",
              "        1.01100000e+07, 1.54914000e+06, 3.22812000e+05],\n",
              "       ...,\n",
              "       [7.43399963e+01, 1.64050003e+02, 1.96280005e+03, ...,\n",
              "        1.37605100e+08, 4.35317700e+06, 2.06947400e+06],\n",
              "       [7.18300018e+01, 1.64589996e+02, 1.94309998e+03, ...,\n",
              "        9.68707000e+07, 3.71166000e+06, 1.58678700e+06],\n",
              "       [7.26699982e+01, 1.65199997e+02, 1.94409998e+03, ...,\n",
              "        1.62061500e+08, 2.06796400e+06, 8.78869000e+05]])"
            ]
          },
          "metadata": {},
          "execution_count": 12
        }
      ]
    },
    {
      "cell_type": "code",
      "source": [
        "y1=df.Close['SI=F']\n",
        "y2=df.Close['SI=F'].shift(-5)\n",
        "\n",
        "y=[0]*len(y1)\n",
        "y=np.zeros(len(y1))\n",
        "\n",
        "#int_list = [int(i) for i in str_list]\n",
        "y = [int(i) for i in y]\n",
        "\n",
        "y=pd.DataFrame(y)\n",
        "#print(y)\n",
        "for i in range(len(y)):\n",
        "  if y1[i]*1.05<y2[i]:\n",
        "    y[0][i]=1\n",
        "  elif y1[i]*0.95>y2[i]:\n",
        "    y[0][i]=-1\n",
        "print(y)"
      ],
      "metadata": {
        "colab": {
          "base_uri": "https://localhost:8080/"
        },
        "id": "1cRm9UX4okHa",
        "outputId": "44e83de4-926a-455a-9d33-c2674a6c72b0"
      },
      "execution_count": null,
      "outputs": [
        {
          "output_type": "stream",
          "name": "stdout",
          "text": [
            "      0\n",
            "0     0\n",
            "1     0\n",
            "2     0\n",
            "3     0\n",
            "4     0\n",
            "...  ..\n",
            "2617  0\n",
            "2618  0\n",
            "2619  0\n",
            "2620  0\n",
            "2621  0\n",
            "\n",
            "[2622 rows x 1 columns]\n"
          ]
        }
      ]
    },
    {
      "cell_type": "code",
      "source": [
        "#input_data = np.concatenate((df.Close.values,y),axis=1)\n",
        "#smap_data = np.array(input_data)\n",
        "#smap_data = np.array(smap_data)\n",
        "smap_data = df.Close.values\n",
        "print(\"Shape of SMAP Data : \", smap_data.shape)"
      ],
      "metadata": {
        "colab": {
          "base_uri": "https://localhost:8080/"
        },
        "id": "RHbqQEGXUmit",
        "outputId": "0ba33f59-0774-40af-e8c7-2118f05120fd"
      },
      "execution_count": null,
      "outputs": [
        {
          "output_type": "stream",
          "name": "stdout",
          "text": [
            "Shape of SMAP Data :  (2622, 10)\n"
          ]
        }
      ]
    },
    {
      "cell_type": "code",
      "source": [
        "np.sum(np.isnan(smap_data),axis=0)"
      ],
      "metadata": {
        "colab": {
          "base_uri": "https://localhost:8080/"
        },
        "id": "GjwRCvkoXF3E",
        "outputId": "058e5c33-10ac-4594-c1a3-1de5586f0cde"
      },
      "execution_count": null,
      "outputs": [
        {
          "output_type": "execute_result",
          "data": {
            "text/plain": [
              "array([2, 3, 4, 3, 3, 6, 3, 3, 4, 2])"
            ]
          },
          "metadata": {},
          "execution_count": 15
        }
      ]
    },
    {
      "cell_type": "code",
      "source": [
        "smap_data=smap_data[~np.isnan(smap_data).any(axis=1)]"
      ],
      "metadata": {
        "id": "3AuuMwY3Xh-w"
      },
      "execution_count": null,
      "outputs": []
    },
    {
      "cell_type": "code",
      "execution_count": null,
      "metadata": {
        "colab": {
          "base_uri": "https://localhost:8080/"
        },
        "id": "AuTEV9HbPB7r",
        "outputId": "909c742a-87ba-4db9-c78f-81ba44780151"
      },
      "outputs": [
        {
          "output_type": "execute_result",
          "data": {
            "text/plain": [
              "(2614, 10)"
            ]
          },
          "metadata": {},
          "execution_count": 17
        }
      ],
      "source": [
        "smap_data.shape"
      ]
    },
    {
      "cell_type": "code",
      "execution_count": null,
      "metadata": {
        "id": "RlvtETjrPSfV"
      },
      "outputs": [],
      "source": [
        "# Next the Data is scaled using Min-Max Scaler"
      ]
    },
    {
      "cell_type": "code",
      "execution_count": null,
      "metadata": {
        "id": "5ZJLb5YnPjzM"
      },
      "outputs": [],
      "source": [
        "from sklearn.preprocessing import MinMaxScaler, RobustScaler"
      ]
    },
    {
      "cell_type": "code",
      "execution_count": null,
      "metadata": {
        "id": "biSnvzUCQFBt"
      },
      "outputs": [],
      "source": [
        "def normalize_data(data, scaler=None):\n",
        "  data = np.asarray(data, dtype=np.float32)\n",
        "  if np.any(sum(np.isnan(data))):\n",
        "    data = np.nan_to_num(data)\n",
        "\n",
        "  if scaler is None:\n",
        "    scaler=MinMaxScaler()\n",
        "    scaler.fit(data)\n",
        "  data=scaler.transform(data)\n",
        "  print(\"Data normalized\")\n",
        "\n",
        "  return data, scaler"
      ]
    },
    {
      "cell_type": "code",
      "execution_count": null,
      "metadata": {
        "colab": {
          "base_uri": "https://localhost:8080/"
        },
        "id": "Nt5KbeyQQmCQ",
        "outputId": "323ca2bf-fff1-439c-df91-4e80d5aa5455"
      },
      "outputs": [
        {
          "output_type": "stream",
          "name": "stdout",
          "text": [
            "Data normalized\n"
          ]
        }
      ],
      "source": [
        "smap_data_norm, scaler = normalize_data(smap_data)"
      ]
    },
    {
      "cell_type": "code",
      "execution_count": null,
      "metadata": {
        "colab": {
          "base_uri": "https://localhost:8080/"
        },
        "id": "Z0_00FQkQwPY",
        "outputId": "93e5ba78-eb32-45c2-e557-75c2f12d9213"
      },
      "outputs": [
        {
          "output_type": "execute_result",
          "data": {
            "text/plain": [
              "torch.Size([2614, 10])"
            ]
          },
          "metadata": {},
          "execution_count": 22
        }
      ],
      "source": [
        "#smap_data_pt = torch.from_numpy(smap_data)\n",
        "smap_data_pt = torch.from_numpy(smap_data_norm)\n",
        "smap_data_pt.size()"
      ]
    },
    {
      "cell_type": "markdown",
      "metadata": {
        "id": "cXsRFg0BRAQG"
      },
      "source": [
        "# Create Sliding Window Dataset - Breaking down the entire time series into small temporal segments which will be used to train the model."
      ]
    },
    {
      "cell_type": "code",
      "execution_count": null,
      "metadata": {
        "id": "x5hWBnk8Q2QN"
      },
      "outputs": [],
      "source": [
        "class SlidingWindowDataset(Dataset):\n",
        "  def __init__(self, data, window, target_dim=None, horizon=1):\n",
        "    self.data= data\n",
        "    self.window = window\n",
        "    self.target_dim = target_dim\n",
        "    self.horizon = horizon\n",
        "\n",
        "  def __getitem__(self,index):\n",
        "    x = self.data[index : index+self.window]\n",
        "    y = self.data[index + self.window : index + self.window + self.horizon]\n",
        "    return x,y\n",
        "\n",
        "  def __len__(self):\n",
        "    return len(self.data) - self.window"
      ]
    },
    {
      "cell_type": "code",
      "execution_count": null,
      "metadata": {
        "id": "QZ7ZpZovSRcN"
      },
      "outputs": [],
      "source": [
        "Window=60\n",
        "BatchSZ=64\n",
        "device = torch.device('cuda' if torch.cuda.is_available() else 'cpu')"
      ]
    },
    {
      "cell_type": "code",
      "execution_count": null,
      "metadata": {
        "id": "NUE0Bz4OSaEm"
      },
      "outputs": [],
      "source": [
        "smap_x_y = SlidingWindowDataset(smap_data_pt, 60)"
      ]
    },
    {
      "cell_type": "code",
      "execution_count": null,
      "metadata": {
        "colab": {
          "base_uri": "https://localhost:8080/"
        },
        "id": "6A3USJqvSfMG",
        "outputId": "f2eeb602-1229-48b4-e23e-324f4f62df47"
      },
      "outputs": [
        {
          "output_type": "execute_result",
          "data": {
            "text/plain": [
              "<__main__.SlidingWindowDataset at 0x7f6b2df27310>"
            ]
          },
          "metadata": {},
          "execution_count": 26
        }
      ],
      "source": [
        "smap_x_y"
      ]
    },
    {
      "cell_type": "code",
      "execution_count": null,
      "metadata": {
        "id": "6g1bXVW7SiXX"
      },
      "outputs": [],
      "source": [
        "def create_data_loaders(train_dataset, batch_size, val_split=0.1, shuffle=False, test_dataset=None):\n",
        "    train_loader, val_loader, test_loader = None, None, None\n",
        "    #if we set ratio 0\n",
        "    if val_split == 0.0:\n",
        "        print(f\"train_size: {len(train_dataset)}\")\n",
        "        train_loader = torch.utils.data.DataLoader(train_dataset, batch_size=batch_size, shuffle=shuffle)\n",
        "\n",
        "    else:\n",
        "        dataset_size = len(train_dataset)\n",
        "        indices = list(range(dataset_size))\n",
        "        split = int(np.floor(val_split * dataset_size))\n",
        "        if shuffle:\n",
        "            np.random.shuffle(indices)\n",
        "        train_indices, val_indices ,test_indices= indices[:dataset_size-split*2], indices[dataset_size-split*2:dataset_size-split], indices[dataset_size-split:]\n",
        "\n",
        "        #train_sampler = SubsetRandomSampler(train_indices)\n",
        "        #valid_sampler = SubsetRandomSampler(val_indices)\n",
        "        train_sampler = SequentialSampler(train_indices)\n",
        "        valid_sampler = SequentialSampler(val_indices)\n",
        "        test_sampler = SequentialSampler(test_indices)\n",
        "\n",
        "        # in torch DataLoader we need to set batch_size but, I'm not sure to set\n",
        "        train_loader = torch.utils.data.DataLoader(train_dataset, batch_size=batch_size, sampler=train_sampler)\n",
        "        val_loader = torch.utils.data.DataLoader(train_dataset, batch_size=batch_size, sampler=valid_sampler)\n",
        "        test_loader = torch.utils.data.DataLoader(train_dataset, batch_size=batch_size, sampler=test_sampler)\n",
        "\n",
        "        print(f\"train_size: {len(train_indices)}\")\n",
        "        print(f\"validation_size: {len(val_indices)}\")\n",
        "        print(f\"test_size: {len(test_indices)}\")\n",
        "    #if test_dataset is not None:\n",
        "        #test_loader = DataLoader(test_dataset, batch_size=batch_size, shuffle=False)\n",
        "        #print(f\"test_size: {len(test_dataset)}\")\n",
        "    #if test_dataset is None then we return None?\n",
        "    return train_loader, val_loader, test_loader"
      ]
    },
    {
      "cell_type": "code",
      "execution_count": null,
      "metadata": {
        "colab": {
          "base_uri": "https://localhost:8080/"
        },
        "id": "0xtBem4UonIt",
        "outputId": "ee4a1cae-1ea4-44fa-ee81-95ba3cc44fc0"
      },
      "outputs": [
        {
          "output_type": "stream",
          "name": "stdout",
          "text": [
            "train_size: 2044\n",
            "validation_size: 255\n",
            "test_size: 255\n"
          ]
        }
      ],
      "source": [
        "train_dl, val_dl, test_dl = create_data_loaders(smap_x_y, BatchSZ)"
      ]
    },
    {
      "cell_type": "markdown",
      "metadata": {
        "id": "zQfaJL1KpJzS"
      },
      "source": [
        "- Until now, smap_x_y : is\n",
        "1. slided\n",
        "2. torched from numpy\n",
        "3. extended data -> np.array()"
      ]
    },
    {
      "cell_type": "code",
      "execution_count": null,
      "metadata": {
        "colab": {
          "base_uri": "https://localhost:8080/"
        },
        "id": "FLyUMXCtrFTi",
        "outputId": "5ece37db-6c76-4172-9414-0993ead4dfa3"
      },
      "outputs": [
        {
          "output_type": "execute_result",
          "data": {
            "text/plain": [
              "<torch.utils.data.dataloader.DataLoader at 0x7f6b2df26020>"
            ]
          },
          "metadata": {},
          "execution_count": 29
        }
      ],
      "source": [
        "val_dl"
      ]
    },
    {
      "cell_type": "markdown",
      "metadata": {
        "id": "byd9iobTp8JX"
      },
      "source": [
        "> We determine the shape of batch\n",
        "> - X : 256 batch size, 60 window length, 10#Features\n",
        "\n",
        "> - Y : 256 bathc size, 1 future value, 10#Features."
      ]
    },
    {
      "cell_type": "code",
      "execution_count": null,
      "metadata": {
        "colab": {
          "base_uri": "https://localhost:8080/"
        },
        "id": "G0KgBEULpH5C",
        "outputId": "255f29c7-e7b3-4cd7-bd01-e40f6c3be819"
      },
      "outputs": [
        {
          "output_type": "execute_result",
          "data": {
            "text/plain": [
              "(torch.Size([64, 60, 10]), torch.Size([64, 1, 10]))"
            ]
          },
          "metadata": {},
          "execution_count": 30
        }
      ],
      "source": [
        "eg = next(iter(val_dl))\n",
        "eg[0].size(), eg[1].size()"
      ]
    },
    {
      "cell_type": "code",
      "execution_count": null,
      "metadata": {
        "id": "InostfaSsE2t"
      },
      "outputs": [],
      "source": [
        "import sys\n",
        "sys.path.insert(0,'mtad-gat-pytorch/')"
      ]
    },
    {
      "cell_type": "code",
      "execution_count": null,
      "metadata": {
        "id": "tk7qdkHhsLpP"
      },
      "outputs": [],
      "source": [
        "from modules import (\n",
        "    ConvLayer,\n",
        "    FeatureAttentionLayer,\n",
        "    TemporalAttentionLayer,\n",
        "    GRULayer,\n",
        "    Forecasting_Model,\n",
        "    ReconstructionModel,\n",
        ")"
      ]
    },
    {
      "cell_type": "code",
      "execution_count": null,
      "metadata": {
        "id": "y5X8wfw4slzt"
      },
      "outputs": [],
      "source": [
        "class MTAD_GAT(nn.Module):\n",
        "\n",
        "    def __init__(\n",
        "        self,\n",
        "        n_features,\n",
        "        window_size,\n",
        "        out_dim,\n",
        "        kernel_size=7,\n",
        "        feat_gat_embed_dim=None,\n",
        "        time_gat_embed_dim=None,\n",
        "        use_gatv2=False,\n",
        "        gru_n_layers=1,\n",
        "        gru_hid_dim=150,\n",
        "        forecast_n_layers=1,\n",
        "        forecast_hid_dim=150,\n",
        "        recon_n_layers=1,\n",
        "        recon_hid_dim=150,\n",
        "        dropout=0.2,\n",
        "        alpha=0.2\n",
        "    ):\n",
        "        super(MTAD_GAT, self).__init__()\n",
        "\n",
        "        self.conv = ConvLayer(n_features, kernel_size)\n",
        "        self.feature_gat = FeatureAttentionLayer(n_features, window_size, dropout, alpha, feat_gat_embed_dim, use_gatv2, use_bias = False)\n",
        "        self.temporal_gat = TemporalAttentionLayer(n_features, window_size, dropout, alpha, time_gat_embed_dim, use_gatv2, use_bias = False)\n",
        "        self.gru = GRULayer(3 * n_features, gru_hid_dim, gru_n_layers, dropout)\n",
        "        self.forecasting_model = Forecasting_Model(gru_hid_dim, forecast_hid_dim, out_dim, forecast_n_layers, dropout)\n",
        "        self.recon_model = ReconstructionModel(window_size, gru_hid_dim, recon_hid_dim, out_dim, recon_n_layers, dropout)\n",
        "\n",
        "    def forward(self, x):\n",
        "        # x shape (b, n, k): b - batch size, n - window size, k - number of features\n",
        "\n",
        "        x = self.conv(x)\n",
        "        h_feat = self.feature_gat(x)\n",
        "        h_temp = self.temporal_gat(x)\n",
        "\n",
        "        h_cat = torch.cat([x, h_feat, h_temp], dim=2)  # (b, n, 3k)\n",
        "\n",
        "        _, h_end = self.gru(h_cat)\n",
        "        h_end = h_end.view(x.shape[0], -1)   # Hidden state for last timestamp\n",
        "\n",
        "        predictions = self.forecasting_model(h_end)\n",
        "        recons = self.recon_model(h_end)\n",
        "\n",
        "        return predictions, recons"
      ]
    },
    {
      "cell_type": "code",
      "execution_count": null,
      "metadata": {
        "id": "cN9ysIXIs9Sz"
      },
      "outputs": [],
      "source": [
        "#model = MTAD_GAT(n_features = 10, window_size = Window, out_dim = 10, feat_gat_embed_dim = 256, time_gat_embed_dim = 64)\n",
        "model = MTAD_GAT(n_features = 10, window_size = Window, out_dim = 10, feat_gat_embed_dim = 10, time_gat_embed_dim = 60)"
      ]
    },
    {
      "cell_type": "code",
      "execution_count": null,
      "metadata": {
        "colab": {
          "base_uri": "https://localhost:8080/"
        },
        "id": "Um7bmL6KtB1p",
        "outputId": "f9d3183f-62c3-4b38-c74c-055e52a7e3f2"
      },
      "outputs": [
        {
          "output_type": "execute_result",
          "data": {
            "text/plain": [
              "MTAD_GAT(\n",
              "  (conv): ConvLayer(\n",
              "    (padding): ConstantPad1d(padding=(3, 3), value=0.0)\n",
              "    (conv): Conv1d(10, 10, kernel_size=(7,), stride=(1,))\n",
              "    (relu): ReLU()\n",
              "  )\n",
              "  (feature_gat): FeatureAttentionLayer(\n",
              "    (lin): Linear(in_features=60, out_features=10, bias=True)\n",
              "    (leakyrelu): LeakyReLU(negative_slope=0.2)\n",
              "    (sigmoid): Sigmoid()\n",
              "  )\n",
              "  (temporal_gat): TemporalAttentionLayer(\n",
              "    (lin): Linear(in_features=10, out_features=60, bias=True)\n",
              "    (leakyrelu): LeakyReLU(negative_slope=0.2)\n",
              "    (sigmoid): Sigmoid()\n",
              "  )\n",
              "  (gru): GRULayer(\n",
              "    (gru): GRU(30, 150, batch_first=True)\n",
              "  )\n",
              "  (forecasting_model): Forecasting_Model(\n",
              "    (layers): ModuleList(\n",
              "      (0): Linear(in_features=150, out_features=150, bias=True)\n",
              "      (1): Linear(in_features=150, out_features=10, bias=True)\n",
              "    )\n",
              "    (dropout): Dropout(p=0.2, inplace=False)\n",
              "    (relu): ReLU()\n",
              "  )\n",
              "  (recon_model): ReconstructionModel(\n",
              "    (decoder): RNNDecoder(\n",
              "      (rnn): GRU(150, 150, batch_first=True)\n",
              "    )\n",
              "    (fc): Linear(in_features=150, out_features=10, bias=True)\n",
              "  )\n",
              ")"
            ]
          },
          "metadata": {},
          "execution_count": 86
        }
      ],
      "source": [
        "model.to(device)"
      ]
    },
    {
      "cell_type": "code",
      "execution_count": null,
      "metadata": {
        "colab": {
          "base_uri": "https://localhost:8080/"
        },
        "id": "0aWKx8uqtHxj",
        "outputId": "209315f0-0b0b-4754-88d7-dac31bf65dfa"
      },
      "outputs": [
        {
          "output_type": "execute_result",
          "data": {
            "text/plain": [
              "(torch.Size([64, 10]), torch.Size([64, 60, 10]))"
            ]
          },
          "metadata": {},
          "execution_count": 87
        }
      ],
      "source": [
        "eg_out = model(eg[0].float().to(device))\n",
        "# First Entity : Future Time Step Forecasted\n",
        "# Second Entity : Reconstructed original input\n",
        "eg_out[0].size(), eg_out[1].size()"
      ]
    },
    {
      "cell_type": "code",
      "execution_count": null,
      "metadata": {
        "id": "clZoZuQNt5KH"
      },
      "outputs": [],
      "source": [
        "# Optimizer : Adam lr = 0.001 we use the MSE maybe\n",
        "# Both Forecasting and Reconstruction would use MSE Loss function\n",
        "EPOCHS = 10\n",
        "optimizer = torch.optim.Adam(model.parameters(), lr=1e-3)\n",
        "forecast_criterion = nn.MSELoss()\n",
        "recon_criterion = nn.MSELoss()"
      ]
    },
    {
      "cell_type": "code",
      "execution_count": null,
      "metadata": {
        "colab": {
          "base_uri": "https://localhost:8080/"
        },
        "id": "UiQkaxHlyDJ-",
        "outputId": "80bb96a6-993a-42b8-b59f-478299894f6a"
      },
      "outputs": [
        {
          "output_type": "execute_result",
          "data": {
            "text/plain": [
              "(32, 4)"
            ]
          },
          "metadata": {},
          "execution_count": 89
        }
      ],
      "source": [
        "len(train_dl), len(val_dl)"
      ]
    },
    {
      "cell_type": "markdown",
      "metadata": {
        "id": "dUV-EtmpygMi"
      },
      "source": [
        "# Training Loop, Final Loss = Forecasting Loss + Reconstruction Loss, Track Loss on Eval set"
      ]
    },
    {
      "cell_type": "code",
      "execution_count": null,
      "metadata": {
        "id": "WSYIlAPWyFEh",
        "colab": {
          "base_uri": "https://localhost:8080/"
        },
        "outputId": "0e138f94-6250-44d7-e5eb-7863956200b2"
      },
      "outputs": [
        {
          "output_type": "stream",
          "name": "stdout",
          "text": [
            "mkdir: cannot create directory ‘model_checkpoints’: File exists\n"
          ]
        }
      ],
      "source": [
        "!mkdir model_checkpoints"
      ]
    },
    {
      "cell_type": "code",
      "execution_count": null,
      "metadata": {
        "colab": {
          "base_uri": "https://localhost:8080/"
        },
        "id": "D0zblHs3ytUs",
        "outputId": "fe3b7896-91a2-4996-8edc-1e7ba3483018"
      },
      "outputs": [
        {
          "output_type": "stream",
          "name": "stdout",
          "text": [
            "Epoch :  0\n",
            "Training Started ... \n",
            "Forecasting Loss :  0.13445343873511373\n",
            "Reconstruction Loss :  0.1905959487636421\n",
            "Validation Started ... \n",
            "Forecasting Loss :  0.3459967464465696\n",
            "Reconstruction Loss :  0.2438303223544992\n",
            "Epoch :  1\n",
            "Training Started ... \n",
            "Forecasting Loss :  0.1962206067807059\n",
            "Reconstruction Loss :  0.14262815752553926\n",
            "Validation Started ... \n",
            "Forecasting Loss :  0.17038916155968195\n",
            "Reconstruction Loss :  0.23859863924179375\n",
            "Epoch :  2\n",
            "Training Started ... \n",
            "Forecasting Loss :  0.14962732006840113\n",
            "Reconstruction Loss :  0.1477910493854914\n",
            "Validation Started ... \n",
            "Forecasting Loss :  0.3305862547332223\n",
            "Reconstruction Loss :  0.24285462728218798\n",
            "Epoch :  3\n",
            "Training Started ... \n",
            "Forecasting Loss :  0.19711037247620936\n",
            "Reconstruction Loss :  0.14470467271674015\n",
            "Validation Started ... \n",
            "Forecasting Loss :  0.18078026633221206\n",
            "Reconstruction Loss :  0.234593667379859\n",
            "Epoch :  4\n",
            "Training Started ... \n",
            "Forecasting Loss :  0.14296819242408035\n",
            "Reconstruction Loss :  0.13839999701425507\n",
            "Validation Started ... \n",
            "Forecasting Loss :  0.24635772822081886\n",
            "Reconstruction Loss :  0.22047800649320629\n",
            "Epoch :  5\n",
            "Training Started ... \n",
            "Forecasting Loss :  0.15537927066496637\n",
            "Reconstruction Loss :  0.14000001801358267\n",
            "Validation Started ... \n",
            "Forecasting Loss :  0.1775800232214016\n",
            "Reconstruction Loss :  0.2036718187617157\n",
            "Epoch :  6\n",
            "Training Started ... \n",
            "Forecasting Loss :  0.1284667613424778\n",
            "Reconstruction Loss :  0.1322422343644398\n",
            "Validation Started ... \n",
            "Forecasting Loss :  0.22343402485400385\n",
            "Reconstruction Loss :  0.2319168645016184\n",
            "Epoch :  7\n",
            "Training Started ... \n",
            "Forecasting Loss :  0.1539589456482383\n",
            "Reconstruction Loss :  0.13891641170528718\n",
            "Validation Started ... \n",
            "Forecasting Loss :  0.1921088999402903\n",
            "Reconstruction Loss :  0.20957838196542214\n",
            "Epoch :  8\n",
            "Training Started ... \n",
            "Forecasting Loss :  0.1293419426210433\n",
            "Reconstruction Loss :  0.1288446940025023\n",
            "Validation Started ... \n",
            "Forecasting Loss :  0.2260584412892895\n",
            "Reconstruction Loss :  0.2329734699939768\n",
            "Epoch :  9\n",
            "Training Started ... \n",
            "Forecasting Loss :  0.16065609278198456\n",
            "Reconstruction Loss :  0.13828526705411834\n",
            "Validation Started ... \n",
            "Forecasting Loss :  0.19094838719530507\n",
            "Reconstruction Loss :  0.2359017617309324\n"
          ]
        }
      ],
      "source": [
        "Best_Valid_loss = 999999\n",
        "Best_Epoch=-1\n",
        "\n",
        "for epoch in range(EPOCHS):\n",
        "  model.train()\n",
        "  forecast_b_losses = []\n",
        "  recon_b_losses = []\n",
        "\n",
        "  print(\"Epoch : \",epoch)\n",
        "  print(\"Training Started ... \")\n",
        "\n",
        "  for batch_idx, batch in enumerate(train_dl):\n",
        "    x = batch[0].to(device).float()\n",
        "    y = batch[1].to(device).float()\n",
        "    optimizer.zero_grad()\n",
        "\n",
        "    preds, recons = model(x)\n",
        "\n",
        "    forecast_loss = torch.sqrt(forecast_criterion(y.squeeze(1),preds))\n",
        "    recon_loss = torch.sqrt(recon_criterion(x, recons))\n",
        "\n",
        "    loss = forecast_loss + recon_loss\n",
        "    #loss = forecast_loss + 0\n",
        "    loss.backward()\n",
        "    optimizer.step()\n",
        "\n",
        "    forecast_b_losses.append(forecast_loss.item())\n",
        "    recon_b_losses.append(recon_loss.item())\n",
        "\n",
        "  forecast_b_losses = np.array(forecast_b_losses)\n",
        "  recon_b_losses = np.array(recon_b_losses)\n",
        "\n",
        "  forecast_epoch_loss = np.sqrt((forecast_b_losses ** 2).mean())\n",
        "  recon_epoch_loss = np.sqrt((recon_b_losses**2).mean())\n",
        "  total_epoch_loss = forecast_epoch_loss + recon_epoch_loss\n",
        "\n",
        "  print('Forecasting Loss : ', forecast_epoch_loss)\n",
        "  print('Reconstruction Loss : ', recon_epoch_loss)\n",
        "\n",
        "  forecast_b_losses_eval = []\n",
        "  recon_b_losses_eval = []\n",
        "\n",
        "  print(\"Validation Started ... \")\n",
        "\n",
        "  model.eval()\n",
        "  with torch.no_grad():\n",
        "    for batch_idx, batch in enumerate(val_dl):\n",
        "      x = batch[0].to(device).float()\n",
        "      y = batch[1].to(device).float()\n",
        "\n",
        "      preds , recons = model(x)\n",
        "\n",
        "      forecast_loss = torch.sqrt(forecast_criterion(y.squeeze(1)[9], preds[9]))\n",
        "      recon_loss = torch.sqrt(recon_criterion(x[:,9],recons[:,9]))\n",
        "      loss = forecast_loss + recon_loss\n",
        "\n",
        "      forecast_b_losses_eval.append(forecast_loss.item())\n",
        "      recon_b_losses_eval.append(recon_loss.item())\n",
        "\n",
        "  forecast_b_losses_eval = np.array(forecast_b_losses_eval)\n",
        "  recon_b_losses_eval = np.array(recon_b_losses_eval)\n",
        "\n",
        "  forecast_epoch_loss_eval = np.sqrt((forecast_b_losses_eval**2).mean())\n",
        "  recon_epoch_loss_eval = np.sqrt((recon_b_losses_eval**2).mean())\n",
        "\n",
        "  total_epoch_loss_eval = forecast_epoch_loss_eval + recon_epoch_loss_eval\n",
        "\n",
        "  print('Forecasting Loss : ', forecast_epoch_loss_eval)\n",
        "  print('Reconstruction Loss : ', recon_epoch_loss_eval)\n",
        "\n",
        "  if total_epoch_loss_eval < Best_Valid_loss:\n",
        "    Best_Valid_loss = total_epoch_loss_eval\n",
        "    Best_Epoch = epoch\n",
        "\n",
        "    ckpt = {\n",
        "        'Epoch' : epoch,\n",
        "        'Model' : model.state_dict(),\n",
        "        'Optimizer' : optimizer.state_dict(),\n",
        "        'Train_Forecast_loss' : forecast_epoch_loss,\n",
        "        'Train_Recon_loss' : recon_epoch_loss,\n",
        "        'Eval_Forecast_loss' : forecast_epoch_loss_eval,\n",
        "        'Eval_Recon' : recon_epoch_loss_eval\n",
        "    }\n",
        "\n",
        "    torch.save(ckpt, os.path.join('model_checkpoints', str(epoch) + '.pt'))\n",
        "\n",
        "\n",
        "\n",
        "\n",
        "\n"
      ]
    },
    {
      "cell_type": "code",
      "execution_count": null,
      "metadata": {
        "id": "F-61HgUt7ueg",
        "colab": {
          "base_uri": "https://localhost:8080/"
        },
        "outputId": "222eecd9-6cb2-433c-9232-dfa865f06f3b"
      },
      "outputs": [
        {
          "output_type": "execute_result",
          "data": {
            "text/plain": [
              "MTAD_GAT(\n",
              "  (conv): ConvLayer(\n",
              "    (padding): ConstantPad1d(padding=(3, 3), value=0.0)\n",
              "    (conv): Conv1d(10, 10, kernel_size=(7,), stride=(1,))\n",
              "    (relu): ReLU()\n",
              "  )\n",
              "  (feature_gat): FeatureAttentionLayer(\n",
              "    (lin): Linear(in_features=60, out_features=10, bias=True)\n",
              "    (leakyrelu): LeakyReLU(negative_slope=0.2)\n",
              "    (sigmoid): Sigmoid()\n",
              "  )\n",
              "  (temporal_gat): TemporalAttentionLayer(\n",
              "    (lin): Linear(in_features=10, out_features=60, bias=True)\n",
              "    (leakyrelu): LeakyReLU(negative_slope=0.2)\n",
              "    (sigmoid): Sigmoid()\n",
              "  )\n",
              "  (gru): GRULayer(\n",
              "    (gru): GRU(30, 150, batch_first=True)\n",
              "  )\n",
              "  (forecasting_model): Forecasting_Model(\n",
              "    (layers): ModuleList(\n",
              "      (0): Linear(in_features=150, out_features=150, bias=True)\n",
              "      (1): Linear(in_features=150, out_features=10, bias=True)\n",
              "    )\n",
              "    (dropout): Dropout(p=0.2, inplace=False)\n",
              "    (relu): ReLU()\n",
              "  )\n",
              "  (recon_model): ReconstructionModel(\n",
              "    (decoder): RNNDecoder(\n",
              "      (rnn): GRU(150, 150, batch_first=True)\n",
              "    )\n",
              "    (fc): Linear(in_features=150, out_features=10, bias=True)\n",
              "  )\n",
              ")"
            ]
          },
          "metadata": {},
          "execution_count": 128
        }
      ],
      "source": [
        "#best_model = MTAD_GAT(n_features = 10, window_size=Window, out_dim=10, feat_gat_embed_dim = 256, time_gat_embed_dim = 64)\n",
        "best_model = MTAD_GAT(n_features = 10, window_size=Window, out_dim=10, feat_gat_embed_dim = 10, time_gat_embed_dim = 60)\n",
        "best_model.load_state_dict(torch.load(os.path.join('model_checkpoints', str(Best_Epoch)+'.pt'))['Model'])\n",
        "best_model.to(device)\n",
        "\n",
        "\n"
      ]
    },
    {
      "cell_type": "markdown",
      "metadata": {
        "id": "M2QDKg9jTGJT"
      },
      "source": [
        "# Score the Losses on Test Dataset"
      ]
    },
    {
      "cell_type": "code",
      "execution_count": null,
      "metadata": {
        "id": "k5izLtXbTEK6"
      },
      "outputs": [],
      "source": [
        "#smap_data_test = []\n",
        "#for smap_channel in smap_channels:\n",
        "#  tmp_data = np.load(os.path.join('data/test/', smap_channel + '.npy'))\n",
        "#  smap_data_test.extend(tmp_data)\n",
        "#\n",
        "#smap_data_test = np.array(smap_data_test)\n",
        "#print(\"Shape of Test DataSet : \", smap_data_test.shape)"
      ]
    },
    {
      "cell_type": "code",
      "execution_count": null,
      "metadata": {
        "id": "c3BiqObXT39H"
      },
      "outputs": [],
      "source": [
        "#smap_data_test_norm, _ = normalize_data(smap_data_test, scaler)\n",
        "#smap_data_test_norm = smap_data_test_norm[:10000]\n",
        "#smap_data_test_pt = torch.from_numpy(smap_data_test_norm)\n",
        "#smap_data_test_pt.size()"
      ]
    },
    {
      "cell_type": "code",
      "execution_count": null,
      "metadata": {
        "id": "NmcJQr2GUM_T"
      },
      "outputs": [],
      "source": [
        "#smap_test_x_y = SlidingWindowDataset(smap_data_test_pt,100)\n",
        "#test_dl = torch.utils.data.DataLoader(smap_test_x_y, batch_size=256, shuffle=False)\n",
        "#print(\"Number of Batches in Test Dataloader : \", len(test_dl))"
      ]
    },
    {
      "cell_type": "markdown",
      "metadata": {
        "id": "U3Jp33b2Un5d"
      },
      "source": [
        "# For Every time steps, Get the Reconstruction & Forecast Loss.\n",
        "\n",
        "# E.g. - If window size = 10, For TS11 - To get Forecasting Loss, we input(TS1 TS2 ... TS10) in model & to get reconstruction loss, input(TS2 TS3 .. TS11)"
      ]
    },
    {
      "cell_type": "code",
      "execution_count": null,
      "metadata": {
        "id": "tTrgaB1-Ucnb",
        "colab": {
          "base_uri": "https://localhost:8080/",
          "height": 121,
          "referenced_widgets": [
            "912da9a6121944d7b9d951c7a9bdb68a",
            "d37a68a00aea4c85acb095583fee3e88",
            "35ef4ffd197b4912afe774d4a2d5440f",
            "68407a671d68449892d2429d471a3eea",
            "db005476794141a28815d551c87695b1",
            "62ac39b7470742ed8f75415b49a5a57f",
            "60076ea75dbe4f94ba97b845e8af1c12",
            "1b95e10c8e734c9cb6d31aad54b04f9e",
            "ad3748e0c6fb4a76b8e3769e6dc0917c",
            "e91a894fb3114d6b9c725112221dd8a7",
            "eaae2ad7dc3e42cca418de1cbc13c4e2"
          ]
        },
        "outputId": "f405cc37-5784-4721-f746-ef3a31412baa"
      },
      "outputs": [
        {
          "output_type": "display_data",
          "data": {
            "text/plain": [
              "  0%|          | 0/4 [00:00<?, ?it/s]"
            ],
            "application/vnd.jupyter.widget-view+json": {
              "version_major": 2,
              "version_minor": 0,
              "model_id": "912da9a6121944d7b9d951c7a9bdb68a"
            }
          },
          "metadata": {}
        },
        {
          "output_type": "stream",
          "name": "stdout",
          "text": [
            "(64, 10) (64, 10)\n",
            "(64, 10) (64, 10)\n",
            "(64, 10) (64, 10)\n",
            "(63, 10) (63, 10)\n"
          ]
        }
      ],
      "source": [
        "model.eval()\n",
        "preds = []\n",
        "#preds=np.empty((1,2))\n",
        "recons = []\n",
        "#recons=np.empty((1,2))\n",
        "with torch.no_grad():\n",
        "  for batch in tqdm(test_dl):\n",
        "    x = batch[0].to(device).float()\n",
        "    y = batch[1].to(device).float()\n",
        "\n",
        "    y_hat, _ =model(x)\n",
        "\n",
        "    recon_x = torch.cat((x[:,1:,:],y),dim=1)\n",
        "    _, window_recon = model(recon_x)\n",
        "    print(window_recon[:,-1,:].detach().cpu().numpy().shape, y_hat.detach().cpu().numpy().shape)\n",
        "    preds.append(y_hat.detach().cpu().numpy())\n",
        "    #preds=np.append(preds,y_hat.detach().cpu().numpy())\n",
        "\n",
        "    #preds = np.concatenate((preds, y_hat.detach().cpu().numpy()),axis=0)\n",
        "    # Extract last reconstruction only\n",
        "    recons.append(window_recon[:,-1,:].detach().cpu().numpy())\n",
        "    #recons=np.append(recons,window_recon[:,-1,:].detach().cpu().numpy())\n",
        "    #recons = np.concatenate((recons,window_recon[:,-1,:].detach().cpu().numpy()),axis=0)\n",
        "    #print(preds,recons)\n",
        "  preds = np.concatenate(preds, axis=0)\n",
        "  recons = np.concatenate(recons,axis=0)"
      ]
    },
    {
      "cell_type": "markdown",
      "metadata": {
        "id": "txZ-QqVSXVje"
      },
      "source": [
        "- pred array contains Forecasting loss for all the time steps & all features in test data while recons array contains Reconstruction Loss"
      ]
    },
    {
      "cell_type": "code",
      "source": [
        "#preds = np.concatenate([preds], axis=0)\n",
        "#recons = np.concatenate([recons],axis=0)"
      ],
      "metadata": {
        "id": "8ruq19koAQmK"
      },
      "execution_count": null,
      "outputs": []
    },
    {
      "cell_type": "code",
      "execution_count": null,
      "metadata": {
        "id": "1QdoJH4GVmOx",
        "colab": {
          "base_uri": "https://localhost:8080/"
        },
        "outputId": "5516cc18-6688-4783-ff48-8153f96f311c"
      },
      "outputs": [
        {
          "output_type": "execute_result",
          "data": {
            "text/plain": [
              "((255, 10), (255, 10))"
            ]
          },
          "metadata": {},
          "execution_count": 134
        }
      ],
      "source": [
        "preds.shape, recons.shape"
      ]
    },
    {
      "cell_type": "code",
      "execution_count": null,
      "metadata": {
        "id": "wYW3EmnDUdPG"
      },
      "outputs": [],
      "source": [
        "scale_scores= True"
      ]
    },
    {
      "cell_type": "markdown",
      "metadata": {
        "id": "J7bVF-IiX36h"
      },
      "source": [
        "# Put the losses in a Dataframe"
      ]
    },
    {
      "cell_type": "markdown",
      "metadata": {
        "id": "f4f4moOWg15a"
      },
      "source": []
    },
    {
      "cell_type": "code",
      "execution_count": null,
      "metadata": {
        "id": "_7fugnrYX8Uj",
        "colab": {
          "base_uri": "https://localhost:8080/"
        },
        "outputId": "10864874-a50e-443a-807f-451fd63427a4"
      },
      "outputs": [
        {
          "output_type": "stream",
          "name": "stdout",
          "text": [
            "(255, 10)\n"
          ]
        }
      ],
      "source": [
        "#actual = smap_data_test_norm[Window:]\n",
        "actual = smap_data[len(smap_data)-255:]\n",
        "print(actual.shape)\n",
        "\n",
        "anomaly_scores = np.zeros_like(actual)\n",
        "df = pd.DataFrame()\n",
        "for i in range(preds.shape[1]):\n",
        "  df[f\"Forecast_{i}\"] = preds[:,i]\n",
        "  df[f\"Recon_{i}\"] = recons[:,i]\n",
        "  df[f\"True_{i}\"] = actual[:,i]\n",
        "  a_score = np.sqrt((preds[:,i] - actual[:,i])**2) + np.sqrt((recons[:,i] - actual[:,i])**2)\n",
        "\n",
        "  if scale_scores:\n",
        "    q75, q25 = np.percentile(a_score, [75,25])\n",
        "    iqr = q75 - q25\n",
        "    median = np.median(a_score)\n",
        "    a_score = (a_score - median)/(1+iqr)\n",
        "  anomaly_scores[:,i] = a_score\n",
        "  df[f\"A_Score_{i}\"] = a_score\n",
        "anomaly_scores = np.mean(anomaly_scores, 1)\n",
        "df['A_Score_Global'] = anomaly_scores"
      ]
    },
    {
      "cell_type": "markdown",
      "metadata": {
        "id": "P0KMOq5NaJ9m"
      },
      "source": [
        "\n",
        "# Forecast{i}, Recon{i} = Forecast and Reconstruction loss for the i'th feature of the time step, A Score{i} = Forecast+Recon loss\n",
        "\n"
      ]
    },
    {
      "cell_type": "markdown",
      "metadata": {
        "id": "hliP_YE2aSBI"
      },
      "source": [
        "# A_Score_Global : Mean of all loss across all features in that time step"
      ]
    },
    {
      "cell_type": "code",
      "execution_count": null,
      "metadata": {
        "id": "IqFEJ7kDX8Gk"
      },
      "outputs": [],
      "source": []
    },
    {
      "cell_type": "code",
      "execution_count": null,
      "metadata": {
        "id": "NuONRks-VnAA",
        "colab": {
          "base_uri": "https://localhost:8080/",
          "height": 483
        },
        "outputId": "58473680-3611-4d56-b156-f66275fcb1e7"
      },
      "outputs": [
        {
          "output_type": "execute_result",
          "data": {
            "text/plain": [
              "     Forecast_0   Recon_0      True_0  A_Score_0  Forecast_1   Recon_1  \\\n",
              "0      0.550075  0.550647  110.290001   1.982498    0.095713  0.095713   \n",
              "1      0.550429  0.550505  109.769997   1.947009    0.094897  0.093958   \n",
              "2      0.550434  0.550297  110.330002   1.985228    0.093576  0.091298   \n",
              "3      0.551508  0.550038  114.089996   2.241764    0.091138  0.088690   \n",
              "4      0.552809  0.549816  115.070000   2.308598    0.088541  0.086809   \n",
              "..          ...       ...         ...        ...         ...       ...   \n",
              "250    0.532659  0.525940   71.989998  -0.629472    0.013947  0.022426   \n",
              "251    0.531863  0.525526   72.910004  -0.566654    0.013053  0.021969   \n",
              "252    0.531283  0.525154   74.339996  -0.469046    0.012203  0.021609   \n",
              "253    0.530542  0.524929   71.830002  -0.640283    0.011527  0.021441   \n",
              "254    0.529972  0.524780   72.669998  -0.582941    0.011188  0.021287   \n",
              "\n",
              "         True_1  A_Score_1  Forecast_2   Recon_2  ...  A_Score_7  Forecast_8  \\\n",
              "0    169.550003  -0.619569    0.358840  0.386587  ...   0.385238    0.623146   \n",
              "1    162.509995  -0.698219    0.357374  0.383139  ...   0.135499    0.622365   \n",
              "2    169.279999  -0.622550    0.354894  0.377913  ...   0.299263    0.620508   \n",
              "3    178.779999  -0.516369    0.350625  0.372735  ...   0.560771    0.618285   \n",
              "4    188.949997  -0.402705    0.346086  0.369032  ...   0.838145    0.616057   \n",
              "..          ...        ...         ...       ...  ...        ...         ...   \n",
              "250  164.649994  -0.673455    0.171765  0.198006  ...  -0.192249    0.449477   \n",
              "251  162.830002  -0.693784    0.169132  0.195753  ...  -0.241940    0.446136   \n",
              "252  164.050003  -0.680145    0.166760  0.193865  ...  -0.287945    0.443232   \n",
              "253  164.589996  -0.674107    0.164852  0.192879  ...  -0.262773    0.440661   \n",
              "254  165.199997  -0.667288    0.163989  0.192104  ...  -0.123303    0.439285   \n",
              "\n",
              "      Recon_8      True_8  A_Score_8  Forecast_9   Recon_9      True_9  \\\n",
              "0    0.641847  119.578125   1.065470    0.842468  0.800703  105.703125   \n",
              "1    0.638714  120.375000   1.244346    0.841709  0.798003  105.968750   \n",
              "2    0.633968  120.593750   1.294069    0.839550  0.793832  106.019531   \n",
              "3    0.629224  120.593750   1.294849    0.837349  0.789623  106.058594   \n",
              "4    0.625782  120.484375   1.270992    0.835236  0.786556  106.082031   \n",
              "..        ...         ...        ...         ...       ...         ...   \n",
              "250  0.439083  113.468750  -0.260413    0.656998  0.631460  102.535156   \n",
              "251  0.436389  113.609375  -0.228248    0.653862  0.629483  102.496094   \n",
              "252  0.434121  113.421875  -0.269655    0.651268  0.627839  102.382812   \n",
              "253  0.432922  112.625000  -0.447671    0.648740  0.627013  102.105469   \n",
              "254  0.432002  112.406250  -0.496397    0.647200  0.626404  101.933594   \n",
              "\n",
              "     A_Score_9  A_Score_Global  \n",
              "0     1.013008        0.574542  \n",
              "1     1.120564        0.570054  \n",
              "2     1.142266        0.600349  \n",
              "3     1.159270        0.699273  \n",
              "4     1.169741        0.791953  \n",
              "..         ...             ...  \n",
              "250  -0.190099        0.062544  \n",
              "251  -0.204786        0.044040  \n",
              "252  -0.249506        0.009403  \n",
              "253  -0.360405       -0.028799  \n",
              "254  -0.429117        0.030871  \n",
              "\n",
              "[255 rows x 41 columns]"
            ],
            "text/html": [
              "\n",
              "  <div id=\"df-c1646577-f4f8-481c-8e40-fe81f10ae74b\">\n",
              "    <div class=\"colab-df-container\">\n",
              "      <div>\n",
              "<style scoped>\n",
              "    .dataframe tbody tr th:only-of-type {\n",
              "        vertical-align: middle;\n",
              "    }\n",
              "\n",
              "    .dataframe tbody tr th {\n",
              "        vertical-align: top;\n",
              "    }\n",
              "\n",
              "    .dataframe thead th {\n",
              "        text-align: right;\n",
              "    }\n",
              "</style>\n",
              "<table border=\"1\" class=\"dataframe\">\n",
              "  <thead>\n",
              "    <tr style=\"text-align: right;\">\n",
              "      <th></th>\n",
              "      <th>Forecast_0</th>\n",
              "      <th>Recon_0</th>\n",
              "      <th>True_0</th>\n",
              "      <th>A_Score_0</th>\n",
              "      <th>Forecast_1</th>\n",
              "      <th>Recon_1</th>\n",
              "      <th>True_1</th>\n",
              "      <th>A_Score_1</th>\n",
              "      <th>Forecast_2</th>\n",
              "      <th>Recon_2</th>\n",
              "      <th>...</th>\n",
              "      <th>A_Score_7</th>\n",
              "      <th>Forecast_8</th>\n",
              "      <th>Recon_8</th>\n",
              "      <th>True_8</th>\n",
              "      <th>A_Score_8</th>\n",
              "      <th>Forecast_9</th>\n",
              "      <th>Recon_9</th>\n",
              "      <th>True_9</th>\n",
              "      <th>A_Score_9</th>\n",
              "      <th>A_Score_Global</th>\n",
              "    </tr>\n",
              "  </thead>\n",
              "  <tbody>\n",
              "    <tr>\n",
              "      <th>0</th>\n",
              "      <td>0.550075</td>\n",
              "      <td>0.550647</td>\n",
              "      <td>110.290001</td>\n",
              "      <td>1.982498</td>\n",
              "      <td>0.095713</td>\n",
              "      <td>0.095713</td>\n",
              "      <td>169.550003</td>\n",
              "      <td>-0.619569</td>\n",
              "      <td>0.358840</td>\n",
              "      <td>0.386587</td>\n",
              "      <td>...</td>\n",
              "      <td>0.385238</td>\n",
              "      <td>0.623146</td>\n",
              "      <td>0.641847</td>\n",
              "      <td>119.578125</td>\n",
              "      <td>1.065470</td>\n",
              "      <td>0.842468</td>\n",
              "      <td>0.800703</td>\n",
              "      <td>105.703125</td>\n",
              "      <td>1.013008</td>\n",
              "      <td>0.574542</td>\n",
              "    </tr>\n",
              "    <tr>\n",
              "      <th>1</th>\n",
              "      <td>0.550429</td>\n",
              "      <td>0.550505</td>\n",
              "      <td>109.769997</td>\n",
              "      <td>1.947009</td>\n",
              "      <td>0.094897</td>\n",
              "      <td>0.093958</td>\n",
              "      <td>162.509995</td>\n",
              "      <td>-0.698219</td>\n",
              "      <td>0.357374</td>\n",
              "      <td>0.383139</td>\n",
              "      <td>...</td>\n",
              "      <td>0.135499</td>\n",
              "      <td>0.622365</td>\n",
              "      <td>0.638714</td>\n",
              "      <td>120.375000</td>\n",
              "      <td>1.244346</td>\n",
              "      <td>0.841709</td>\n",
              "      <td>0.798003</td>\n",
              "      <td>105.968750</td>\n",
              "      <td>1.120564</td>\n",
              "      <td>0.570054</td>\n",
              "    </tr>\n",
              "    <tr>\n",
              "      <th>2</th>\n",
              "      <td>0.550434</td>\n",
              "      <td>0.550297</td>\n",
              "      <td>110.330002</td>\n",
              "      <td>1.985228</td>\n",
              "      <td>0.093576</td>\n",
              "      <td>0.091298</td>\n",
              "      <td>169.279999</td>\n",
              "      <td>-0.622550</td>\n",
              "      <td>0.354894</td>\n",
              "      <td>0.377913</td>\n",
              "      <td>...</td>\n",
              "      <td>0.299263</td>\n",
              "      <td>0.620508</td>\n",
              "      <td>0.633968</td>\n",
              "      <td>120.593750</td>\n",
              "      <td>1.294069</td>\n",
              "      <td>0.839550</td>\n",
              "      <td>0.793832</td>\n",
              "      <td>106.019531</td>\n",
              "      <td>1.142266</td>\n",
              "      <td>0.600349</td>\n",
              "    </tr>\n",
              "    <tr>\n",
              "      <th>3</th>\n",
              "      <td>0.551508</td>\n",
              "      <td>0.550038</td>\n",
              "      <td>114.089996</td>\n",
              "      <td>2.241764</td>\n",
              "      <td>0.091138</td>\n",
              "      <td>0.088690</td>\n",
              "      <td>178.779999</td>\n",
              "      <td>-0.516369</td>\n",
              "      <td>0.350625</td>\n",
              "      <td>0.372735</td>\n",
              "      <td>...</td>\n",
              "      <td>0.560771</td>\n",
              "      <td>0.618285</td>\n",
              "      <td>0.629224</td>\n",
              "      <td>120.593750</td>\n",
              "      <td>1.294849</td>\n",
              "      <td>0.837349</td>\n",
              "      <td>0.789623</td>\n",
              "      <td>106.058594</td>\n",
              "      <td>1.159270</td>\n",
              "      <td>0.699273</td>\n",
              "    </tr>\n",
              "    <tr>\n",
              "      <th>4</th>\n",
              "      <td>0.552809</td>\n",
              "      <td>0.549816</td>\n",
              "      <td>115.070000</td>\n",
              "      <td>2.308598</td>\n",
              "      <td>0.088541</td>\n",
              "      <td>0.086809</td>\n",
              "      <td>188.949997</td>\n",
              "      <td>-0.402705</td>\n",
              "      <td>0.346086</td>\n",
              "      <td>0.369032</td>\n",
              "      <td>...</td>\n",
              "      <td>0.838145</td>\n",
              "      <td>0.616057</td>\n",
              "      <td>0.625782</td>\n",
              "      <td>120.484375</td>\n",
              "      <td>1.270992</td>\n",
              "      <td>0.835236</td>\n",
              "      <td>0.786556</td>\n",
              "      <td>106.082031</td>\n",
              "      <td>1.169741</td>\n",
              "      <td>0.791953</td>\n",
              "    </tr>\n",
              "    <tr>\n",
              "      <th>...</th>\n",
              "      <td>...</td>\n",
              "      <td>...</td>\n",
              "      <td>...</td>\n",
              "      <td>...</td>\n",
              "      <td>...</td>\n",
              "      <td>...</td>\n",
              "      <td>...</td>\n",
              "      <td>...</td>\n",
              "      <td>...</td>\n",
              "      <td>...</td>\n",
              "      <td>...</td>\n",
              "      <td>...</td>\n",
              "      <td>...</td>\n",
              "      <td>...</td>\n",
              "      <td>...</td>\n",
              "      <td>...</td>\n",
              "      <td>...</td>\n",
              "      <td>...</td>\n",
              "      <td>...</td>\n",
              "      <td>...</td>\n",
              "      <td>...</td>\n",
              "    </tr>\n",
              "    <tr>\n",
              "      <th>250</th>\n",
              "      <td>0.532659</td>\n",
              "      <td>0.525940</td>\n",
              "      <td>71.989998</td>\n",
              "      <td>-0.629472</td>\n",
              "      <td>0.013947</td>\n",
              "      <td>0.022426</td>\n",
              "      <td>164.649994</td>\n",
              "      <td>-0.673455</td>\n",
              "      <td>0.171765</td>\n",
              "      <td>0.198006</td>\n",
              "      <td>...</td>\n",
              "      <td>-0.192249</td>\n",
              "      <td>0.449477</td>\n",
              "      <td>0.439083</td>\n",
              "      <td>113.468750</td>\n",
              "      <td>-0.260413</td>\n",
              "      <td>0.656998</td>\n",
              "      <td>0.631460</td>\n",
              "      <td>102.535156</td>\n",
              "      <td>-0.190099</td>\n",
              "      <td>0.062544</td>\n",
              "    </tr>\n",
              "    <tr>\n",
              "      <th>251</th>\n",
              "      <td>0.531863</td>\n",
              "      <td>0.525526</td>\n",
              "      <td>72.910004</td>\n",
              "      <td>-0.566654</td>\n",
              "      <td>0.013053</td>\n",
              "      <td>0.021969</td>\n",
              "      <td>162.830002</td>\n",
              "      <td>-0.693784</td>\n",
              "      <td>0.169132</td>\n",
              "      <td>0.195753</td>\n",
              "      <td>...</td>\n",
              "      <td>-0.241940</td>\n",
              "      <td>0.446136</td>\n",
              "      <td>0.436389</td>\n",
              "      <td>113.609375</td>\n",
              "      <td>-0.228248</td>\n",
              "      <td>0.653862</td>\n",
              "      <td>0.629483</td>\n",
              "      <td>102.496094</td>\n",
              "      <td>-0.204786</td>\n",
              "      <td>0.044040</td>\n",
              "    </tr>\n",
              "    <tr>\n",
              "      <th>252</th>\n",
              "      <td>0.531283</td>\n",
              "      <td>0.525154</td>\n",
              "      <td>74.339996</td>\n",
              "      <td>-0.469046</td>\n",
              "      <td>0.012203</td>\n",
              "      <td>0.021609</td>\n",
              "      <td>164.050003</td>\n",
              "      <td>-0.680145</td>\n",
              "      <td>0.166760</td>\n",
              "      <td>0.193865</td>\n",
              "      <td>...</td>\n",
              "      <td>-0.287945</td>\n",
              "      <td>0.443232</td>\n",
              "      <td>0.434121</td>\n",
              "      <td>113.421875</td>\n",
              "      <td>-0.269655</td>\n",
              "      <td>0.651268</td>\n",
              "      <td>0.627839</td>\n",
              "      <td>102.382812</td>\n",
              "      <td>-0.249506</td>\n",
              "      <td>0.009403</td>\n",
              "    </tr>\n",
              "    <tr>\n",
              "      <th>253</th>\n",
              "      <td>0.530542</td>\n",
              "      <td>0.524929</td>\n",
              "      <td>71.830002</td>\n",
              "      <td>-0.640283</td>\n",
              "      <td>0.011527</td>\n",
              "      <td>0.021441</td>\n",
              "      <td>164.589996</td>\n",
              "      <td>-0.674107</td>\n",
              "      <td>0.164852</td>\n",
              "      <td>0.192879</td>\n",
              "      <td>...</td>\n",
              "      <td>-0.262773</td>\n",
              "      <td>0.440661</td>\n",
              "      <td>0.432922</td>\n",
              "      <td>112.625000</td>\n",
              "      <td>-0.447671</td>\n",
              "      <td>0.648740</td>\n",
              "      <td>0.627013</td>\n",
              "      <td>102.105469</td>\n",
              "      <td>-0.360405</td>\n",
              "      <td>-0.028799</td>\n",
              "    </tr>\n",
              "    <tr>\n",
              "      <th>254</th>\n",
              "      <td>0.529972</td>\n",
              "      <td>0.524780</td>\n",
              "      <td>72.669998</td>\n",
              "      <td>-0.582941</td>\n",
              "      <td>0.011188</td>\n",
              "      <td>0.021287</td>\n",
              "      <td>165.199997</td>\n",
              "      <td>-0.667288</td>\n",
              "      <td>0.163989</td>\n",
              "      <td>0.192104</td>\n",
              "      <td>...</td>\n",
              "      <td>-0.123303</td>\n",
              "      <td>0.439285</td>\n",
              "      <td>0.432002</td>\n",
              "      <td>112.406250</td>\n",
              "      <td>-0.496397</td>\n",
              "      <td>0.647200</td>\n",
              "      <td>0.626404</td>\n",
              "      <td>101.933594</td>\n",
              "      <td>-0.429117</td>\n",
              "      <td>0.030871</td>\n",
              "    </tr>\n",
              "  </tbody>\n",
              "</table>\n",
              "<p>255 rows × 41 columns</p>\n",
              "</div>\n",
              "      <button class=\"colab-df-convert\" onclick=\"convertToInteractive('df-c1646577-f4f8-481c-8e40-fe81f10ae74b')\"\n",
              "              title=\"Convert this dataframe to an interactive table.\"\n",
              "              style=\"display:none;\">\n",
              "        \n",
              "  <svg xmlns=\"http://www.w3.org/2000/svg\" height=\"24px\"viewBox=\"0 0 24 24\"\n",
              "       width=\"24px\">\n",
              "    <path d=\"M0 0h24v24H0V0z\" fill=\"none\"/>\n",
              "    <path d=\"M18.56 5.44l.94 2.06.94-2.06 2.06-.94-2.06-.94-.94-2.06-.94 2.06-2.06.94zm-11 1L8.5 8.5l.94-2.06 2.06-.94-2.06-.94L8.5 2.5l-.94 2.06-2.06.94zm10 10l.94 2.06.94-2.06 2.06-.94-2.06-.94-.94-2.06-.94 2.06-2.06.94z\"/><path d=\"M17.41 7.96l-1.37-1.37c-.4-.4-.92-.59-1.43-.59-.52 0-1.04.2-1.43.59L10.3 9.45l-7.72 7.72c-.78.78-.78 2.05 0 2.83L4 21.41c.39.39.9.59 1.41.59.51 0 1.02-.2 1.41-.59l7.78-7.78 2.81-2.81c.8-.78.8-2.07 0-2.86zM5.41 20L4 18.59l7.72-7.72 1.47 1.35L5.41 20z\"/>\n",
              "  </svg>\n",
              "      </button>\n",
              "      \n",
              "  <style>\n",
              "    .colab-df-container {\n",
              "      display:flex;\n",
              "      flex-wrap:wrap;\n",
              "      gap: 12px;\n",
              "    }\n",
              "\n",
              "    .colab-df-convert {\n",
              "      background-color: #E8F0FE;\n",
              "      border: none;\n",
              "      border-radius: 50%;\n",
              "      cursor: pointer;\n",
              "      display: none;\n",
              "      fill: #1967D2;\n",
              "      height: 32px;\n",
              "      padding: 0 0 0 0;\n",
              "      width: 32px;\n",
              "    }\n",
              "\n",
              "    .colab-df-convert:hover {\n",
              "      background-color: #E2EBFA;\n",
              "      box-shadow: 0px 1px 2px rgba(60, 64, 67, 0.3), 0px 1px 3px 1px rgba(60, 64, 67, 0.15);\n",
              "      fill: #174EA6;\n",
              "    }\n",
              "\n",
              "    [theme=dark] .colab-df-convert {\n",
              "      background-color: #3B4455;\n",
              "      fill: #D2E3FC;\n",
              "    }\n",
              "\n",
              "    [theme=dark] .colab-df-convert:hover {\n",
              "      background-color: #434B5C;\n",
              "      box-shadow: 0px 1px 3px 1px rgba(0, 0, 0, 0.15);\n",
              "      filter: drop-shadow(0px 1px 2px rgba(0, 0, 0, 0.3));\n",
              "      fill: #FFFFFF;\n",
              "    }\n",
              "  </style>\n",
              "\n",
              "      <script>\n",
              "        const buttonEl =\n",
              "          document.querySelector('#df-c1646577-f4f8-481c-8e40-fe81f10ae74b button.colab-df-convert');\n",
              "        buttonEl.style.display =\n",
              "          google.colab.kernel.accessAllowed ? 'block' : 'none';\n",
              "\n",
              "        async function convertToInteractive(key) {\n",
              "          const element = document.querySelector('#df-c1646577-f4f8-481c-8e40-fe81f10ae74b');\n",
              "          const dataTable =\n",
              "            await google.colab.kernel.invokeFunction('convertToInteractive',\n",
              "                                                     [key], {});\n",
              "          if (!dataTable) return;\n",
              "\n",
              "          const docLinkHtml = 'Like what you see? Visit the ' +\n",
              "            '<a target=\"_blank\" href=https://colab.research.google.com/notebooks/data_table.ipynb>data table notebook</a>'\n",
              "            + ' to learn more about interactive tables.';\n",
              "          element.innerHTML = '';\n",
              "          dataTable['output_type'] = 'display_data';\n",
              "          await google.colab.output.renderOutput(dataTable, element);\n",
              "          const docLink = document.createElement('div');\n",
              "          docLink.innerHTML = docLinkHtml;\n",
              "          element.appendChild(docLink);\n",
              "        }\n",
              "      </script>\n",
              "    </div>\n",
              "  </div>\n",
              "  "
            ]
          },
          "metadata": {},
          "execution_count": 137
        }
      ],
      "source": [
        "df"
      ]
    },
    {
      "cell_type": "code",
      "execution_count": null,
      "metadata": {
        "id": "3fkL18Siv6_P",
        "colab": {
          "base_uri": "https://localhost:8080/",
          "height": 848
        },
        "outputId": "894aab02-b887-4630-86a9-b3a80e489da3"
      },
      "outputs": [
        {
          "output_type": "execute_result",
          "data": {
            "text/plain": [
              "[<matplotlib.lines.Line2D at 0x7f6b1e24a260>]"
            ]
          },
          "metadata": {},
          "execution_count": 149
        },
        {
          "output_type": "display_data",
          "data": {
            "text/plain": [
              "<Figure size 1000x1000 with 1 Axes>"
            ],
            "image/png": "[encoded data removed]"
          },
          "metadata": {}
        }
      ],
      "source": [
        "import matplotlib.pyplot as plt\n",
        "f,ax=plt.subplots(nrows=1,ncols=1,figsize=(10,10))\n",
        "plt.plot(df.Forecast_9[60:]*160,color='dodgerblue')\n",
        "\n",
        "plt.plot(df.True_9[60:],color='red')"
      ]
    },
    {
      "cell_type": "code",
      "source": [
        "FeatureGat=[]\n",
        "TemporalGat=[]\n",
        "\n",
        "with torch.no_grad():\n",
        "  for batch in tqdm(test_dl):\n",
        "    x = batch[0].to(device).float()\n",
        "    #y = batch[1].to(device).float()\n",
        "\n",
        "    #y_hat, _ =model(x)\n",
        "    FeatureGat.append(model.feature_gat.forward(x))\n",
        "    TemporalGat.append(model.temporal_gat.forward(x))\n",
        "    #recon_x = torch.cat((x[:,1:,:],y),dim=1)\n",
        "    #_, window_recon = model(recon_x)\n",
        "    #print(window_recon[:,-1,:].detach().cpu().numpy().shape, y_hat.detach().cpu().numpy().shape)\n",
        "    #preds.append(y_hat.detach().cpu().numpy())\n",
        "    #preds=np.append(preds,y_hat.detach().cpu().numpy())\n",
        "\n",
        "    #preds = np.concatenate((preds, y_hat.detach().cpu().numpy()),axis=0)\n",
        "    # Extract last reconstruction only\n",
        "    #recons.append(window_recon[:,-1,:].detach().cpu().numpy())\n",
        "    #recons=np.append(recons,window_recon[:,-1,:].detach().cpu().numpy())\n",
        "    #recons = np.concatenate((recons,window_recon[:,-1,:].detach().cpu().numpy()),axis=0)\n",
        "    #print(preds,recons)\n",
        "  #preds = np.concatenate(preds, axis=0)\n",
        "  #recons = np.concatenate(recons,axis=0)"
      ],
      "metadata": {
        "id": "3G6a-qfDOduQ",
        "colab": {
          "base_uri": "https://localhost:8080/",
          "height": 49,
          "referenced_widgets": [
            "32c916d2eb5b4fb99c2d5c3c9c874fb5",
            "baada229642f4bc6a51cd58f0dd32141",
            "057a13cf7d5b4d6ab18f624939c3386e",
            "2c1266ec71e5484aa0206f01a254b206",
            "4d13867055da43fa88df583658e3a3d5",
            "4afe23d614ec4cf2b1d25760dfd9aa54",
            "6e8b81bcaaab4068b2a8bef03e12bcda",
            "fac83ac8f35c481e9106413382c0782e",
            "67270b625b134424be2a241e0b95a69a",
            "b0439a50a6ea4fc7bd12faae0538449f",
            "c6c17fd367e84ee4a3cd92ff3cde1237"
          ]
        },
        "outputId": "17048ba3-fc48-4b6c-b436-a5a913c28aa2"
      },
      "execution_count": null,
      "outputs": [
        {
          "output_type": "display_data",
          "data": {
            "text/plain": [
              "  0%|          | 0/4 [00:00<?, ?it/s]"
            ],
            "application/vnd.jupyter.widget-view+json": {
              "version_major": 2,
              "version_minor": 0,
              "model_id": "32c916d2eb5b4fb99c2d5c3c9c874fb5"
            }
          },
          "metadata": {}
        }
      ]
    },
    {
      "cell_type": "code",
      "source": [
        "#model.feature_gat.a.shape\n",
        "model.temporal_gat.a.shape"
      ],
      "metadata": {
        "colab": {
          "base_uri": "https://localhost:8080/"
        },
        "id": "JWKULHdEoVi2",
        "outputId": "19c74a4d-ce46-4b12-d22c-3b949b66f18b"
      },
      "execution_count": null,
      "outputs": [
        {
          "output_type": "execute_result",
          "data": {
            "text/plain": [
              "torch.Size([120, 1])"
            ]
          },
          "metadata": {},
          "execution_count": 140
        }
      ]
    },
    {
      "cell_type": "code",
      "source": [
        "len(test_dl)"
      ],
      "metadata": {
        "colab": {
          "base_uri": "https://localhost:8080/"
        },
        "id": "12V2h8uZgfzA",
        "outputId": "da2f6d47-9e2b-4ec6-dbb6-5bd2188e3ed8"
      },
      "execution_count": null,
      "outputs": [
        {
          "output_type": "execute_result",
          "data": {
            "text/plain": [
              "4"
            ]
          },
          "metadata": {},
          "execution_count": 141
        }
      ]
    },
    {
      "cell_type": "code",
      "source": [
        "FeatureGat[1][36]"
      ],
      "metadata": {
        "colab": {
          "base_uri": "https://localhost:8080/"
        },
        "id": "lqMElFnWgjuw",
        "outputId": "e4600568-bd27-4813-cbbc-c4fb3043bef9"
      },
      "execution_count": null,
      "outputs": [
        {
          "output_type": "execute_result",
          "data": {
            "text/plain": [
              "tensor([[0.6164, 0.6551, 0.6280, 0.6164, 0.6550, 0.6164, 0.6236, 0.6555, 0.6164,\n",
              "         0.6164],\n",
              "        [0.6164, 0.6549, 0.6279, 0.6164, 0.6547, 0.6164, 0.6236, 0.6552, 0.6164,\n",
              "         0.6164],\n",
              "        [0.6170, 0.6554, 0.6285, 0.6170, 0.6552, 0.6170, 0.6241, 0.6558, 0.6170,\n",
              "         0.6170],\n",
              "        [0.6155, 0.6539, 0.6270, 0.6155, 0.6537, 0.6155, 0.6226, 0.6543, 0.6155,\n",
              "         0.6155],\n",
              "        [0.6168, 0.6553, 0.6283, 0.6168, 0.6551, 0.6168, 0.6239, 0.6557, 0.6168,\n",
              "         0.6168],\n",
              "        [0.6161, 0.6548, 0.6276, 0.6161, 0.6546, 0.6161, 0.6233, 0.6552, 0.6161,\n",
              "         0.6161],\n",
              "        [0.6166, 0.6553, 0.6281, 0.6166, 0.6551, 0.6166, 0.6237, 0.6557, 0.6166,\n",
              "         0.6166],\n",
              "        [0.6172, 0.6559, 0.6287, 0.6172, 0.6558, 0.6172, 0.6243, 0.6563, 0.6172,\n",
              "         0.6172],\n",
              "        [0.6140, 0.6536, 0.6260, 0.6140, 0.6535, 0.6140, 0.6214, 0.6540, 0.6140,\n",
              "         0.6140],\n",
              "        [0.6130, 0.6527, 0.6250, 0.6130, 0.6526, 0.6130, 0.6204, 0.6531, 0.6130,\n",
              "         0.6130],\n",
              "        [0.6120, 0.6519, 0.6241, 0.6120, 0.6518, 0.6120, 0.6195, 0.6523, 0.6120,\n",
              "         0.6120],\n",
              "        [0.6117, 0.6518, 0.6239, 0.6117, 0.6516, 0.6117, 0.6193, 0.6522, 0.6117,\n",
              "         0.6117],\n",
              "        [0.6123, 0.6524, 0.6244, 0.6123, 0.6523, 0.6123, 0.6198, 0.6528, 0.6123,\n",
              "         0.6123],\n",
              "        [0.6138, 0.6542, 0.6260, 0.6138, 0.6541, 0.6138, 0.6214, 0.6546, 0.6138,\n",
              "         0.6138],\n",
              "        [0.6130, 0.6536, 0.6253, 0.6130, 0.6535, 0.6130, 0.6206, 0.6540, 0.6130,\n",
              "         0.6130],\n",
              "        [0.6126, 0.6534, 0.6250, 0.6126, 0.6533, 0.6126, 0.6203, 0.6538, 0.6126,\n",
              "         0.6126],\n",
              "        [0.6107, 0.6517, 0.6232, 0.6107, 0.6516, 0.6107, 0.6184, 0.6521, 0.6107,\n",
              "         0.6107],\n",
              "        [0.6018, 0.6441, 0.6151, 0.6018, 0.6440, 0.6018, 0.6101, 0.6445, 0.6018,\n",
              "         0.6018],\n",
              "        [0.6000, 0.6421, 0.6133, 0.6000, 0.6419, 0.6000, 0.6082, 0.6424, 0.6000,\n",
              "         0.6000],\n",
              "        [0.5979, 0.6406, 0.6115, 0.5979, 0.6404, 0.5979, 0.6063, 0.6409, 0.5979,\n",
              "         0.5979],\n",
              "        [0.5983, 0.6407, 0.6118, 0.5983, 0.6406, 0.5983, 0.6066, 0.6411, 0.5983,\n",
              "         0.5983],\n",
              "        [0.5970, 0.6402, 0.6108, 0.5970, 0.6401, 0.5970, 0.6055, 0.6405, 0.5970,\n",
              "         0.5970],\n",
              "        [0.5984, 0.6419, 0.6123, 0.5984, 0.6417, 0.5984, 0.6070, 0.6422, 0.5984,\n",
              "         0.5984],\n",
              "        [0.5998, 0.6426, 0.6134, 0.5998, 0.6425, 0.5998, 0.6082, 0.6429, 0.5998,\n",
              "         0.5998],\n",
              "        [0.6015, 0.6436, 0.6147, 0.6015, 0.6435, 0.6015, 0.6097, 0.6440, 0.6015,\n",
              "         0.6015],\n",
              "        [0.6015, 0.6439, 0.6148, 0.6015, 0.6438, 0.6015, 0.6097, 0.6443, 0.6015,\n",
              "         0.6015],\n",
              "        [0.6022, 0.6445, 0.6155, 0.6022, 0.6444, 0.6022, 0.6103, 0.6448, 0.6022,\n",
              "         0.6022],\n",
              "        [0.5968, 0.6403, 0.6108, 0.5968, 0.6402, 0.5968, 0.6054, 0.6407, 0.5968,\n",
              "         0.5968],\n",
              "        [0.5993, 0.6424, 0.6131, 0.5993, 0.6423, 0.5993, 0.6077, 0.6428, 0.5993,\n",
              "         0.5993],\n",
              "        [0.5996, 0.6428, 0.6134, 0.5996, 0.6426, 0.5996, 0.6081, 0.6431, 0.5996,\n",
              "         0.5996],\n",
              "        [0.6000, 0.6435, 0.6138, 0.6000, 0.6434, 0.6000, 0.6085, 0.6439, 0.6000,\n",
              "         0.6000],\n",
              "        [0.6039, 0.6466, 0.6173, 0.6039, 0.6465, 0.6039, 0.6121, 0.6470, 0.6039,\n",
              "         0.6039],\n",
              "        [0.6035, 0.6463, 0.6170, 0.6035, 0.6462, 0.6035, 0.6118, 0.6467, 0.6035,\n",
              "         0.6035],\n",
              "        [0.6047, 0.6474, 0.6181, 0.6047, 0.6473, 0.6047, 0.6129, 0.6478, 0.6047,\n",
              "         0.6047],\n",
              "        [0.6057, 0.6482, 0.6190, 0.6057, 0.6480, 0.6057, 0.6139, 0.6485, 0.6057,\n",
              "         0.6057],\n",
              "        [0.6052, 0.6481, 0.6187, 0.6052, 0.6480, 0.6052, 0.6135, 0.6485, 0.6052,\n",
              "         0.6052],\n",
              "        [0.6049, 0.6481, 0.6185, 0.6049, 0.6479, 0.6049, 0.6133, 0.6484, 0.6049,\n",
              "         0.6049],\n",
              "        [0.6063, 0.6492, 0.6198, 0.6063, 0.6490, 0.6063, 0.6145, 0.6495, 0.6063,\n",
              "         0.6063],\n",
              "        [0.6085, 0.6506, 0.6217, 0.6085, 0.6504, 0.6085, 0.6166, 0.6510, 0.6085,\n",
              "         0.6085],\n",
              "        [0.6079, 0.6501, 0.6211, 0.6079, 0.6500, 0.6079, 0.6160, 0.6505, 0.6079,\n",
              "         0.6079],\n",
              "        [0.6054, 0.6478, 0.6188, 0.6054, 0.6477, 0.6054, 0.6136, 0.6482, 0.6054,\n",
              "         0.6054],\n",
              "        [0.6059, 0.6482, 0.6192, 0.6059, 0.6481, 0.6059, 0.6141, 0.6486, 0.6059,\n",
              "         0.6059],\n",
              "        [0.6051, 0.6478, 0.6186, 0.6051, 0.6476, 0.6051, 0.6134, 0.6481, 0.6051,\n",
              "         0.6051],\n",
              "        [0.6052, 0.6477, 0.6186, 0.6052, 0.6476, 0.6052, 0.6134, 0.6481, 0.6052,\n",
              "         0.6052],\n",
              "        [0.6038, 0.6464, 0.6174, 0.6038, 0.6463, 0.6038, 0.6121, 0.6468, 0.6038,\n",
              "         0.6038],\n",
              "        [0.6052, 0.6478, 0.6187, 0.6052, 0.6477, 0.6052, 0.6135, 0.6482, 0.6052,\n",
              "         0.6052],\n",
              "        [0.6043, 0.6472, 0.6180, 0.6043, 0.6471, 0.6043, 0.6127, 0.6476, 0.6043,\n",
              "         0.6043],\n",
              "        [0.6062, 0.6490, 0.6197, 0.6062, 0.6489, 0.6062, 0.6145, 0.6494, 0.6062,\n",
              "         0.6062],\n",
              "        [0.6056, 0.6483, 0.6191, 0.6056, 0.6482, 0.6056, 0.6139, 0.6487, 0.6056,\n",
              "         0.6056],\n",
              "        [0.6049, 0.6477, 0.6185, 0.6049, 0.6476, 0.6049, 0.6132, 0.6481, 0.6049,\n",
              "         0.6049],\n",
              "        [0.6053, 0.6479, 0.6188, 0.6053, 0.6478, 0.6053, 0.6136, 0.6483, 0.6053,\n",
              "         0.6053],\n",
              "        [0.6076, 0.6495, 0.6207, 0.6076, 0.6494, 0.6076, 0.6157, 0.6499, 0.6076,\n",
              "         0.6076],\n",
              "        [0.6087, 0.6507, 0.6218, 0.6087, 0.6506, 0.6087, 0.6168, 0.6511, 0.6087,\n",
              "         0.6087],\n",
              "        [0.6099, 0.6516, 0.6229, 0.6099, 0.6515, 0.6099, 0.6179, 0.6520, 0.6099,\n",
              "         0.6099],\n",
              "        [0.6080, 0.6500, 0.6212, 0.6080, 0.6499, 0.6080, 0.6161, 0.6504, 0.6080,\n",
              "         0.6080],\n",
              "        [0.6089, 0.6507, 0.6220, 0.6089, 0.6506, 0.6089, 0.6169, 0.6511, 0.6089,\n",
              "         0.6089],\n",
              "        [0.6098, 0.6514, 0.6227, 0.6098, 0.6512, 0.6098, 0.6177, 0.6518, 0.6098,\n",
              "         0.6098],\n",
              "        [0.6097, 0.6512, 0.6226, 0.6097, 0.6510, 0.6097, 0.6176, 0.6516, 0.6097,\n",
              "         0.6097],\n",
              "        [0.6082, 0.6499, 0.6213, 0.6082, 0.6498, 0.6082, 0.6162, 0.6503, 0.6082,\n",
              "         0.6082],\n",
              "        [0.6091, 0.6504, 0.6220, 0.6091, 0.6503, 0.6091, 0.6170, 0.6508, 0.6091,\n",
              "         0.6091]])"
            ]
          },
          "metadata": {},
          "execution_count": 142
        }
      ]
    },
    {
      "cell_type": "code",
      "source": [
        "ax = sns.heatmap(FeatureGat[1][36], cmap='RdYlGn_r')\n",
        "#plt.title('Heatmap of Flight by seaborn', fontsize=20)\n",
        "plt.show()\n"
      ],
      "metadata": {
        "colab": {
          "base_uri": "https://localhost:8080/",
          "height": 460
        },
        "id": "wDPy3uJQ2ixM",
        "outputId": "cd1b9bdb-dcb5-4a3c-9b51-388a542e9ca3"
      },
      "execution_count": null,
      "outputs": [
        {
          "output_type": "display_data",
          "data": {
            "text/plain": [
              "<Figure size 640x480 with 2 Axes>"
            ],
            "image/png": "[encoded data removed]"
          },
          "metadata": {}
        }
      ]
    },
    {
      "cell_type": "code",
      "source": [
        "ax = sns.heatmap(FeatureGat[1][51], cmap='RdYlGn_r')\n",
        "#plt.title('Heatmap of Flight by seaborn', fontsize=20)\n",
        "plt.show()"
      ],
      "metadata": {
        "colab": {
          "base_uri": "https://localhost:8080/",
          "height": 460
        },
        "id": "ZQvhh7wx26tA",
        "outputId": "d632c9e2-8556-48b9-bbf5-8eba7bde353c"
      },
      "execution_count": null,
      "outputs": [
        {
          "output_type": "display_data",
          "data": {
            "text/plain": [
              "<Figure size 640x480 with 2 Axes>"
            ],
            "image/png": "[encoded data removed]"
          },
          "metadata": {}
        }
      ]
    },
    {
      "cell_type": "code",
      "source": [
        "ax = sns.heatmap(FeatureGat[2][27], cmap='RdYlGn_r') #155\n",
        "#plt.title('Heatmap of Flight by seaborn', fontsize=20)\n",
        "plt.show()"
      ],
      "metadata": {
        "colab": {
          "base_uri": "https://localhost:8080/",
          "height": 460
        },
        "id": "tGLKb3wr3LJX",
        "outputId": "1a1f553d-0975-469b-91b0-a1a93b03d6d0"
      },
      "execution_count": null,
      "outputs": [
        {
          "output_type": "display_data",
          "data": {
            "text/plain": [
              "<Figure size 640x480 with 2 Axes>"
            ],
            "image/png": "[encoded data removed]"
          },
          "metadata": {}
        }
      ]
    },
    {
      "cell_type": "code",
      "source": [
        "ax = sns.heatmap(FeatureGat[2][17], cmap='RdYlGn_r') #145\n",
        "#plt.title('Heatmap of Flight by seaborn', fontsize=20)\n",
        "plt.show()"
      ],
      "metadata": {
        "colab": {
          "base_uri": "https://localhost:8080/",
          "height": 460
        },
        "id": "N4Qz3Hx343-W",
        "outputId": "a7a463da-be67-4e2a-811b-f4747a57e778"
      },
      "execution_count": null,
      "outputs": [
        {
          "output_type": "display_data",
          "data": {
            "text/plain": [
              "<Figure size 640x480 with 2 Axes>"
            ],
            "image/png": "[encoded data removed]"
          },
          "metadata": {}
        }
      ]
    },
    {
      "cell_type": "code",
      "source": [
        "ax = sns.heatmap(FeatureGat[3][27], cmap='RdYlGn_r') #220\n",
        "#plt.title('Heatmap of Flight by seaborn', fontsize=20)\n",
        "plt.show()"
      ],
      "metadata": {
        "colab": {
          "base_uri": "https://localhost:8080/",
          "height": 460
        },
        "id": "0V66_UQm5T5c",
        "outputId": "961af50f-635c-4d70-e6a4-f17c36377cf0"
      },
      "execution_count": null,
      "outputs": [
        {
          "output_type": "display_data",
          "data": {
            "text/plain": [
              "<Figure size 640x480 with 2 Axes>"
            ],
            "image/png": "[encoded data removed]"
          },
          "metadata": {}
        }
      ]
    },
    {
      "cell_type": "code",
      "source": [
        "TemporalGat[0][0]"
      ],
      "metadata": {
        "colab": {
          "base_uri": "https://localhost:8080/"
        },
        "id": "McIEwmCvlic4",
        "outputId": "348cbbfc-7274-49d3-a90f-f5b7bd30ca0e"
      },
      "execution_count": null,
      "outputs": [
        {
          "output_type": "execute_result",
          "data": {
            "text/plain": [
              "tensor([[0.6939, 0.5029, 0.6413, 0.6358, 0.5009, 0.7086, 0.6481, 0.5001, 0.6739,\n",
              "         0.7249],\n",
              "        [0.6939, 0.5029, 0.6413, 0.6358, 0.5009, 0.7086, 0.6481, 0.5001, 0.6739,\n",
              "         0.7249],\n",
              "        [0.6939, 0.5029, 0.6413, 0.6358, 0.5009, 0.7086, 0.6481, 0.5001, 0.6739,\n",
              "         0.7249],\n",
              "        [0.6939, 0.5029, 0.6413, 0.6358, 0.5009, 0.7086, 0.6481, 0.5001, 0.6739,\n",
              "         0.7249],\n",
              "        [0.6939, 0.5029, 0.6413, 0.6358, 0.5009, 0.7086, 0.6481, 0.5001, 0.6739,\n",
              "         0.7249],\n",
              "        [0.6939, 0.5029, 0.6413, 0.6358, 0.5009, 0.7086, 0.6481, 0.5001, 0.6739,\n",
              "         0.7249],\n",
              "        [0.6939, 0.5029, 0.6413, 0.6358, 0.5009, 0.7086, 0.6481, 0.5001, 0.6739,\n",
              "         0.7249],\n",
              "        [0.6939, 0.5029, 0.6413, 0.6358, 0.5009, 0.7086, 0.6481, 0.5001, 0.6739,\n",
              "         0.7249],\n",
              "        [0.6939, 0.5029, 0.6413, 0.6358, 0.5009, 0.7086, 0.6481, 0.5001, 0.6739,\n",
              "         0.7249],\n",
              "        [0.6939, 0.5029, 0.6413, 0.6358, 0.5009, 0.7086, 0.6481, 0.5001, 0.6739,\n",
              "         0.7249],\n",
              "        [0.6939, 0.5029, 0.6413, 0.6358, 0.5009, 0.7086, 0.6481, 0.5001, 0.6739,\n",
              "         0.7249],\n",
              "        [0.6939, 0.5029, 0.6413, 0.6358, 0.5009, 0.7086, 0.6481, 0.5001, 0.6739,\n",
              "         0.7249],\n",
              "        [0.6939, 0.5029, 0.6413, 0.6358, 0.5009, 0.7086, 0.6481, 0.5001, 0.6739,\n",
              "         0.7249],\n",
              "        [0.6939, 0.5029, 0.6413, 0.6358, 0.5009, 0.7086, 0.6481, 0.5001, 0.6739,\n",
              "         0.7249],\n",
              "        [0.6939, 0.5029, 0.6413, 0.6358, 0.5009, 0.7086, 0.6481, 0.5001, 0.6739,\n",
              "         0.7249],\n",
              "        [0.6939, 0.5029, 0.6413, 0.6358, 0.5009, 0.7086, 0.6481, 0.5001, 0.6739,\n",
              "         0.7249],\n",
              "        [0.6939, 0.5029, 0.6413, 0.6358, 0.5009, 0.7086, 0.6481, 0.5001, 0.6739,\n",
              "         0.7249],\n",
              "        [0.6939, 0.5029, 0.6413, 0.6358, 0.5009, 0.7086, 0.6481, 0.5001, 0.6739,\n",
              "         0.7249],\n",
              "        [0.6939, 0.5029, 0.6413, 0.6358, 0.5009, 0.7086, 0.6481, 0.5001, 0.6739,\n",
              "         0.7249],\n",
              "        [0.6939, 0.5029, 0.6413, 0.6358, 0.5009, 0.7086, 0.6481, 0.5001, 0.6739,\n",
              "         0.7249],\n",
              "        [0.6939, 0.5029, 0.6413, 0.6358, 0.5009, 0.7086, 0.6481, 0.5001, 0.6739,\n",
              "         0.7249],\n",
              "        [0.6939, 0.5029, 0.6413, 0.6358, 0.5009, 0.7086, 0.6481, 0.5001, 0.6739,\n",
              "         0.7249],\n",
              "        [0.6939, 0.5029, 0.6413, 0.6358, 0.5009, 0.7086, 0.6481, 0.5001, 0.6739,\n",
              "         0.7249],\n",
              "        [0.6939, 0.5029, 0.6413, 0.6358, 0.5009, 0.7086, 0.6481, 0.5001, 0.6739,\n",
              "         0.7249],\n",
              "        [0.6939, 0.5029, 0.6413, 0.6358, 0.5009, 0.7086, 0.6481, 0.5001, 0.6739,\n",
              "         0.7249],\n",
              "        [0.6939, 0.5029, 0.6413, 0.6358, 0.5009, 0.7086, 0.6481, 0.5001, 0.6739,\n",
              "         0.7249],\n",
              "        [0.6939, 0.5029, 0.6413, 0.6358, 0.5009, 0.7086, 0.6481, 0.5001, 0.6739,\n",
              "         0.7249],\n",
              "        [0.6939, 0.5029, 0.6413, 0.6358, 0.5009, 0.7086, 0.6481, 0.5001, 0.6739,\n",
              "         0.7249],\n",
              "        [0.6939, 0.5029, 0.6413, 0.6358, 0.5009, 0.7086, 0.6481, 0.5001, 0.6739,\n",
              "         0.7249],\n",
              "        [0.6939, 0.5029, 0.6413, 0.6358, 0.5009, 0.7086, 0.6481, 0.5001, 0.6739,\n",
              "         0.7249],\n",
              "        [0.6939, 0.5029, 0.6413, 0.6358, 0.5009, 0.7086, 0.6481, 0.5001, 0.6739,\n",
              "         0.7249],\n",
              "        [0.6939, 0.5029, 0.6413, 0.6358, 0.5009, 0.7086, 0.6481, 0.5001, 0.6739,\n",
              "         0.7249],\n",
              "        [0.6939, 0.5029, 0.6413, 0.6358, 0.5009, 0.7086, 0.6481, 0.5001, 0.6739,\n",
              "         0.7249],\n",
              "        [0.6939, 0.5029, 0.6413, 0.6358, 0.5009, 0.7086, 0.6481, 0.5001, 0.6739,\n",
              "         0.7249],\n",
              "        [0.6939, 0.5029, 0.6413, 0.6358, 0.5009, 0.7086, 0.6481, 0.5001, 0.6739,\n",
              "         0.7249],\n",
              "        [0.6939, 0.5029, 0.6413, 0.6358, 0.5009, 0.7086, 0.6481, 0.5001, 0.6739,\n",
              "         0.7249],\n",
              "        [0.6939, 0.5029, 0.6413, 0.6358, 0.5009, 0.7086, 0.6481, 0.5001, 0.6739,\n",
              "         0.7249],\n",
              "        [0.6939, 0.5029, 0.6413, 0.6358, 0.5009, 0.7086, 0.6481, 0.5001, 0.6739,\n",
              "         0.7249],\n",
              "        [0.6939, 0.5029, 0.6413, 0.6358, 0.5009, 0.7086, 0.6481, 0.5001, 0.6739,\n",
              "         0.7249],\n",
              "        [0.6939, 0.5029, 0.6413, 0.6358, 0.5009, 0.7086, 0.6481, 0.5001, 0.6739,\n",
              "         0.7249],\n",
              "        [0.6939, 0.5029, 0.6413, 0.6358, 0.5009, 0.7086, 0.6481, 0.5001, 0.6739,\n",
              "         0.7249],\n",
              "        [0.6939, 0.5029, 0.6413, 0.6358, 0.5009, 0.7086, 0.6481, 0.5001, 0.6739,\n",
              "         0.7249],\n",
              "        [0.6939, 0.5029, 0.6413, 0.6358, 0.5009, 0.7086, 0.6481, 0.5001, 0.6739,\n",
              "         0.7249],\n",
              "        [0.6939, 0.5029, 0.6413, 0.6358, 0.5009, 0.7086, 0.6481, 0.5001, 0.6739,\n",
              "         0.7249],\n",
              "        [0.6939, 0.5029, 0.6413, 0.6358, 0.5009, 0.7086, 0.6481, 0.5001, 0.6739,\n",
              "         0.7249],\n",
              "        [0.6939, 0.5029, 0.6413, 0.6358, 0.5009, 0.7086, 0.6481, 0.5001, 0.6739,\n",
              "         0.7249],\n",
              "        [0.6939, 0.5029, 0.6413, 0.6358, 0.5009, 0.7086, 0.6481, 0.5001, 0.6739,\n",
              "         0.7249],\n",
              "        [0.6939, 0.5029, 0.6413, 0.6358, 0.5009, 0.7086, 0.6481, 0.5001, 0.6739,\n",
              "         0.7249],\n",
              "        [0.6939, 0.5029, 0.6413, 0.6358, 0.5009, 0.7086, 0.6481, 0.5001, 0.6739,\n",
              "         0.7249],\n",
              "        [0.6939, 0.5029, 0.6413, 0.6358, 0.5009, 0.7086, 0.6481, 0.5001, 0.6739,\n",
              "         0.7249],\n",
              "        [0.6939, 0.5029, 0.6413, 0.6358, 0.5009, 0.7086, 0.6481, 0.5001, 0.6739,\n",
              "         0.7249],\n",
              "        [0.6939, 0.5029, 0.6413, 0.6358, 0.5009, 0.7086, 0.6481, 0.5001, 0.6739,\n",
              "         0.7249],\n",
              "        [0.6939, 0.5029, 0.6413, 0.6358, 0.5009, 0.7086, 0.6481, 0.5001, 0.6739,\n",
              "         0.7249],\n",
              "        [0.6939, 0.5029, 0.6413, 0.6358, 0.5009, 0.7086, 0.6481, 0.5001, 0.6739,\n",
              "         0.7249],\n",
              "        [0.6939, 0.5029, 0.6413, 0.6358, 0.5009, 0.7086, 0.6481, 0.5001, 0.6739,\n",
              "         0.7249],\n",
              "        [0.6939, 0.5029, 0.6413, 0.6358, 0.5009, 0.7086, 0.6481, 0.5001, 0.6739,\n",
              "         0.7249],\n",
              "        [0.6939, 0.5029, 0.6413, 0.6358, 0.5009, 0.7086, 0.6481, 0.5001, 0.6739,\n",
              "         0.7249],\n",
              "        [0.6939, 0.5029, 0.6413, 0.6358, 0.5009, 0.7086, 0.6481, 0.5001, 0.6739,\n",
              "         0.7249],\n",
              "        [0.6939, 0.5029, 0.6413, 0.6358, 0.5009, 0.7086, 0.6481, 0.5001, 0.6739,\n",
              "         0.7249],\n",
              "        [0.6939, 0.5029, 0.6413, 0.6358, 0.5009, 0.7086, 0.6481, 0.5001, 0.6739,\n",
              "         0.7249]])"
            ]
          },
          "metadata": {},
          "execution_count": 112
        }
      ]
    },
    {
      "cell_type": "code",
      "source": [],
      "metadata": {
        "id": "589-xlqOglga"
      },
      "execution_count": null,
      "outputs": []
    },
    {
      "cell_type": "code",
      "source": [],
      "metadata": {
        "id": "SPvQ7cg1hWcL"
      },
      "execution_count": null,
      "outputs": []
    }
  ],
  "metadata": {
    "colab": {
      "provenance": [],
      "machine_shape": "hm",
      "authorship_tag": "ABX9TyM3ALtxUfmA70N1DQcB/nK4"
    },
    "kernelspec": {
      "display_name": "Python 3",
      "name": "python3"
    },
    "language_info": {
      "name": "python"
    },
    "accelerator": "TPU",
    "widgets": {
      "application/vnd.jupyter.widget-state+json": {
        "912da9a6121944d7b9d951c7a9bdb68a": {
          "model_module": "@jupyter-widgets/controls",
          "model_name": "HBoxModel",
          "model_module_version": "1.5.0",
          "state": {
            "_dom_classes": [],
            "_model_module": "@jupyter-widgets/controls",
            "_model_module_version": "1.5.0",
            "_model_name": "HBoxModel",
            "_view_count": null,
            "_view_module": "@jupyter-widgets/controls",
            "_view_module_version": "1.5.0",
            "_view_name": "HBoxView",
            "box_style": "",
            "children": [
              "IPY_MODEL_d37a68a00aea4c85acb095583fee3e88",
              "IPY_MODEL_35ef4ffd197b4912afe774d4a2d5440f",
              "IPY_MODEL_68407a671d68449892d2429d471a3eea"
            ],
            "layout": "IPY_MODEL_db005476794141a28815d551c87695b1"
          }
        },
        "d37a68a00aea4c85acb095583fee3e88": {
          "model_module": "@jupyter-widgets/controls",
          "model_name": "HTMLModel",
          "model_module_version": "1.5.0",
          "state": {
            "_dom_classes": [],
            "_model_module": "@jupyter-widgets/controls",
            "_model_module_version": "1.5.0",
            "_model_name": "HTMLModel",
            "_view_count": null,
            "_view_module": "@jupyter-widgets/controls",
            "_view_module_version": "1.5.0",
            "_view_name": "HTMLView",
            "description": "",
            "description_tooltip": null,
            "layout": "IPY_MODEL_62ac39b7470742ed8f75415b49a5a57f",
            "placeholder": "​",
            "style": "IPY_MODEL_60076ea75dbe4f94ba97b845e8af1c12",
            "value": "100%"
          }
        },
        "35ef4ffd197b4912afe774d4a2d5440f": {
          "model_module": "@jupyter-widgets/controls",
          "model_name": "FloatProgressModel",
          "model_module_version": "1.5.0",
          "state": {
            "_dom_classes": [],
            "_model_module": "@jupyter-widgets/controls",
            "_model_module_version": "1.5.0",
            "_model_name": "FloatProgressModel",
            "_view_count": null,
            "_view_module": "@jupyter-widgets/controls",
            "_view_module_version": "1.5.0",
            "_view_name": "ProgressView",
            "bar_style": "success",
            "description": "",
            "description_tooltip": null,
            "layout": "IPY_MODEL_1b95e10c8e734c9cb6d31aad54b04f9e",
            "max": 4,
            "min": 0,
            "orientation": "horizontal",
            "style": "IPY_MODEL_ad3748e0c6fb4a76b8e3769e6dc0917c",
            "value": 4
          }
        },
        "68407a671d68449892d2429d471a3eea": {
          "model_module": "@jupyter-widgets/controls",
          "model_name": "HTMLModel",
          "model_module_version": "1.5.0",
          "state": {
            "_dom_classes": [],
            "_model_module": "@jupyter-widgets/controls",
            "_model_module_version": "1.5.0",
            "_model_name": "HTMLModel",
            "_view_count": null,
            "_view_module": "@jupyter-widgets/controls",
            "_view_module_version": "1.5.0",
            "_view_name": "HTMLView",
            "description": "",
            "description_tooltip": null,
            "layout": "IPY_MODEL_e91a894fb3114d6b9c725112221dd8a7",
            "placeholder": "​",
            "style": "IPY_MODEL_eaae2ad7dc3e42cca418de1cbc13c4e2",
            "value": " 4/4 [00:00&lt;00:00,  5.53it/s]"
          }
        },
        "db005476794141a28815d551c87695b1": {
          "model_module": "@jupyter-widgets/base",
          "model_name": "LayoutModel",
          "model_module_version": "1.2.0",
          "state": {
            "_model_module": "@jupyter-widgets/base",
            "_model_module_version": "1.2.0",
            "_model_name": "LayoutModel",
            "_view_count": null,
            "_view_module": "@jupyter-widgets/base",
            "_view_module_version": "1.2.0",
            "_view_name": "LayoutView",
            "align_content": null,
            "align_items": null,
            "align_self": null,
            "border": null,
            "bottom": null,
            "display": null,
            "flex": null,
            "flex_flow": null,
            "grid_area": null,
            "grid_auto_columns": null,
            "grid_auto_flow": null,
            "grid_auto_rows": null,
            "grid_column": null,
            "grid_gap": null,
            "grid_row": null,
            "grid_template_areas": null,
            "grid_template_columns": null,
            "grid_template_rows": null,
            "height": null,
            "justify_content": null,
            "justify_items": null,
            "left": null,
            "margin": null,
            "max_height": null,
            "max_width": null,
            "min_height": null,
            "min_width": null,
            "object_fit": null,
            "object_position": null,
            "order": null,
            "overflow": null,
            "overflow_x": null,
            "overflow_y": null,
            "padding": null,
            "right": null,
            "top": null,
            "visibility": null,
            "width": null
          }
        },
        "62ac39b7470742ed8f75415b49a5a57f": {
          "model_module": "@jupyter-widgets/base",
          "model_name": "LayoutModel",
          "model_module_version": "1.2.0",
          "state": {
            "_model_module": "@jupyter-widgets/base",
            "_model_module_version": "1.2.0",
            "_model_name": "LayoutModel",
            "_view_count": null,
            "_view_module": "@jupyter-widgets/base",
            "_view_module_version": "1.2.0",
            "_view_name": "LayoutView",
            "align_content": null,
            "align_items": null,
            "align_self": null,
            "border": null,
            "bottom": null,
            "display": null,
            "flex": null,
            "flex_flow": null,
            "grid_area": null,
            "grid_auto_columns": null,
            "grid_auto_flow": null,
            "grid_auto_rows": null,
            "grid_column": null,
            "grid_gap": null,
            "grid_row": null,
            "grid_template_areas": null,
            "grid_template_columns": null,
            "grid_template_rows": null,
            "height": null,
            "justify_content": null,
            "justify_items": null,
            "left": null,
            "margin": null,
            "max_height": null,
            "max_width": null,
            "min_height": null,
            "min_width": null,
            "object_fit": null,
            "object_position": null,
            "order": null,
            "overflow": null,
            "overflow_x": null,
            "overflow_y": null,
            "padding": null,
            "right": null,
            "top": null,
            "visibility": null,
            "width": null
          }
        },
        "60076ea75dbe4f94ba97b845e8af1c12": {
          "model_module": "@jupyter-widgets/controls",
          "model_name": "DescriptionStyleModel",
          "model_module_version": "1.5.0",
          "state": {
            "_model_module": "@jupyter-widgets/controls",
            "_model_module_version": "1.5.0",
            "_model_name": "DescriptionStyleModel",
            "_view_count": null,
            "_view_module": "@jupyter-widgets/base",
            "_view_module_version": "1.2.0",
            "_view_name": "StyleView",
            "description_width": ""
          }
        },
        "1b95e10c8e734c9cb6d31aad54b04f9e": {
          "model_module": "@jupyter-widgets/base",
          "model_name": "LayoutModel",
          "model_module_version": "1.2.0",
          "state": {
            "_model_module": "@jupyter-widgets/base",
            "_model_module_version": "1.2.0",
            "_model_name": "LayoutModel",
            "_view_count": null,
            "_view_module": "@jupyter-widgets/base",
            "_view_module_version": "1.2.0",
            "_view_name": "LayoutView",
            "align_content": null,
            "align_items": null,
            "align_self": null,
            "border": null,
            "bottom": null,
            "display": null,
            "flex": null,
            "flex_flow": null,
            "grid_area": null,
            "grid_auto_columns": null,
            "grid_auto_flow": null,
            "grid_auto_rows": null,
            "grid_column": null,
            "grid_gap": null,
            "grid_row": null,
            "grid_template_areas": null,
            "grid_template_columns": null,
            "grid_template_rows": null,
            "height": null,
            "justify_content": null,
            "justify_items": null,
            "left": null,
            "margin": null,
            "max_height": null,
            "max_width": null,
            "min_height": null,
            "min_width": null,
            "object_fit": null,
            "object_position": null,
            "order": null,
            "overflow": null,
            "overflow_x": null,
            "overflow_y": null,
            "padding": null,
            "right": null,
            "top": null,
            "visibility": null,
            "width": null
          }
        },
        "ad3748e0c6fb4a76b8e3769e6dc0917c": {
          "model_module": "@jupyter-widgets/controls",
          "model_name": "ProgressStyleModel",
          "model_module_version": "1.5.0",
          "state": {
            "_model_module": "@jupyter-widgets/controls",
            "_model_module_version": "1.5.0",
            "_model_name": "ProgressStyleModel",
            "_view_count": null,
            "_view_module": "@jupyter-widgets/base",
            "_view_module_version": "1.2.0",
            "_view_name": "StyleView",
            "bar_color": null,
            "description_width": ""
          }
        },
        "e91a894fb3114d6b9c725112221dd8a7": {
          "model_module": "@jupyter-widgets/base",
          "model_name": "LayoutModel",
          "model_module_version": "1.2.0",
          "state": {
            "_model_module": "@jupyter-widgets/base",
            "_model_module_version": "1.2.0",
            "_model_name": "LayoutModel",
            "_view_count": null,
            "_view_module": "@jupyter-widgets/base",
            "_view_module_version": "1.2.0",
            "_view_name": "LayoutView",
            "align_content": null,
            "align_items": null,
            "align_self": null,
            "border": null,
            "bottom": null,
            "display": null,
            "flex": null,
            "flex_flow": null,
            "grid_area": null,
            "grid_auto_columns": null,
            "grid_auto_flow": null,
            "grid_auto_rows": null,
            "grid_column": null,
            "grid_gap": null,
            "grid_row": null,
            "grid_template_areas": null,
            "grid_template_columns": null,
            "grid_template_rows": null,
            "height": null,
            "justify_content": null,
            "justify_items": null,
            "left": null,
            "margin": null,
            "max_height": null,
            "max_width": null,
            "min_height": null,
            "min_width": null,
            "object_fit": null,
            "object_position": null,
            "order": null,
            "overflow": null,
            "overflow_x": null,
            "overflow_y": null,
            "padding": null,
            "right": null,
            "top": null,
            "visibility": null,
            "width": null
          }
        },
        "eaae2ad7dc3e42cca418de1cbc13c4e2": {
          "model_module": "@jupyter-widgets/controls",
          "model_name": "DescriptionStyleModel",
          "model_module_version": "1.5.0",
          "state": {
            "_model_module": "@jupyter-widgets/controls",
            "_model_module_version": "1.5.0",
            "_model_name": "DescriptionStyleModel",
            "_view_count": null,
            "_view_module": "@jupyter-widgets/base",
            "_view_module_version": "1.2.0",
            "_view_name": "StyleView",
            "description_width": ""
          }
        },
        "32c916d2eb5b4fb99c2d5c3c9c874fb5": {
          "model_module": "@jupyter-widgets/controls",
          "model_name": "HBoxModel",
          "model_module_version": "1.5.0",
          "state": {
            "_dom_classes": [],
            "_model_module": "@jupyter-widgets/controls",
            "_model_module_version": "1.5.0",
            "_model_name": "HBoxModel",
            "_view_count": null,
            "_view_module": "@jupyter-widgets/controls",
            "_view_module_version": "1.5.0",
            "_view_name": "HBoxView",
            "box_style": "",
            "children": [
              "IPY_MODEL_baada229642f4bc6a51cd58f0dd32141",
              "IPY_MODEL_057a13cf7d5b4d6ab18f624939c3386e",
              "IPY_MODEL_2c1266ec71e5484aa0206f01a254b206"
            ],
            "layout": "IPY_MODEL_4d13867055da43fa88df583658e3a3d5"
          }
        },
        "baada229642f4bc6a51cd58f0dd32141": {
          "model_module": "@jupyter-widgets/controls",
          "model_name": "HTMLModel",
          "model_module_version": "1.5.0",
          "state": {
            "_dom_classes": [],
            "_model_module": "@jupyter-widgets/controls",
            "_model_module_version": "1.5.0",
            "_model_name": "HTMLModel",
            "_view_count": null,
            "_view_module": "@jupyter-widgets/controls",
            "_view_module_version": "1.5.0",
            "_view_name": "HTMLView",
            "description": "",
            "description_tooltip": null,
            "layout": "IPY_MODEL_4afe23d614ec4cf2b1d25760dfd9aa54",
            "placeholder": "​",
            "style": "IPY_MODEL_6e8b81bcaaab4068b2a8bef03e12bcda",
            "value": "100%"
          }
        },
        "057a13cf7d5b4d6ab18f624939c3386e": {
          "model_module": "@jupyter-widgets/controls",
          "model_name": "FloatProgressModel",
          "model_module_version": "1.5.0",
          "state": {
            "_dom_classes": [],
            "_model_module": "@jupyter-widgets/controls",
            "_model_module_version": "1.5.0",
            "_model_name": "FloatProgressModel",
            "_view_count": null,
            "_view_module": "@jupyter-widgets/controls",
            "_view_module_version": "1.5.0",
            "_view_name": "ProgressView",
            "bar_style": "success",
            "description": "",
            "description_tooltip": null,
            "layout": "IPY_MODEL_fac83ac8f35c481e9106413382c0782e",
            "max": 4,
            "min": 0,
            "orientation": "horizontal",
            "style": "IPY_MODEL_67270b625b134424be2a241e0b95a69a",
            "value": 4
          }
        },
        "2c1266ec71e5484aa0206f01a254b206": {
          "model_module": "@jupyter-widgets/controls",
          "model_name": "HTMLModel",
          "model_module_version": "1.5.0",
          "state": {
            "_dom_classes": [],
            "_model_module": "@jupyter-widgets/controls",
            "_model_module_version": "1.5.0",
            "_model_name": "HTMLModel",
            "_view_count": null,
            "_view_module": "@jupyter-widgets/controls",
            "_view_module_version": "1.5.0",
            "_view_name": "HTMLView",
            "description": "",
            "description_tooltip": null,
            "layout": "IPY_MODEL_b0439a50a6ea4fc7bd12faae0538449f",
            "placeholder": "​",
            "style": "IPY_MODEL_c6c17fd367e84ee4a3cd92ff3cde1237",
            "value": " 4/4 [00:00&lt;00:00, 14.98it/s]"
          }
        },
        "4d13867055da43fa88df583658e3a3d5": {
          "model_module": "@jupyter-widgets/base",
          "model_name": "LayoutModel",
          "model_module_version": "1.2.0",
          "state": {
            "_model_module": "@jupyter-widgets/base",
            "_model_module_version": "1.2.0",
            "_model_name": "LayoutModel",
            "_view_count": null,
            "_view_module": "@jupyter-widgets/base",
            "_view_module_version": "1.2.0",
            "_view_name": "LayoutView",
            "align_content": null,
            "align_items": null,
            "align_self": null,
            "border": null,
            "bottom": null,
            "display": null,
            "flex": null,
            "flex_flow": null,
            "grid_area": null,
            "grid_auto_columns": null,
            "grid_auto_flow": null,
            "grid_auto_rows": null,
            "grid_column": null,
            "grid_gap": null,
            "grid_row": null,
            "grid_template_areas": null,
            "grid_template_columns": null,
            "grid_template_rows": null,
            "height": null,
            "justify_content": null,
            "justify_items": null,
            "left": null,
            "margin": null,
            "max_height": null,
            "max_width": null,
            "min_height": null,
            "min_width": null,
            "object_fit": null,
            "object_position": null,
            "order": null,
            "overflow": null,
            "overflow_x": null,
            "overflow_y": null,
            "padding": null,
            "right": null,
            "top": null,
            "visibility": null,
            "width": null
          }
        },
        "4afe23d614ec4cf2b1d25760dfd9aa54": {
          "model_module": "@jupyter-widgets/base",
          "model_name": "LayoutModel",
          "model_module_version": "1.2.0",
          "state": {
            "_model_module": "@jupyter-widgets/base",
            "_model_module_version": "1.2.0",
            "_model_name": "LayoutModel",
            "_view_count": null,
            "_view_module": "@jupyter-widgets/base",
            "_view_module_version": "1.2.0",
            "_view_name": "LayoutView",
            "align_content": null,
            "align_items": null,
            "align_self": null,
            "border": null,
            "bottom": null,
            "display": null,
            "flex": null,
            "flex_flow": null,
            "grid_area": null,
            "grid_auto_columns": null,
            "grid_auto_flow": null,
            "grid_auto_rows": null,
            "grid_column": null,
            "grid_gap": null,
            "grid_row": null,
            "grid_template_areas": null,
            "grid_template_columns": null,
            "grid_template_rows": null,
            "height": null,
            "justify_content": null,
            "justify_items": null,
            "left": null,
            "margin": null,
            "max_height": null,
            "max_width": null,
            "min_height": null,
            "min_width": null,
            "object_fit": null,
            "object_position": null,
            "order": null,
            "overflow": null,
            "overflow_x": null,
            "overflow_y": null,
            "padding": null,
            "right": null,
            "top": null,
            "visibility": null,
            "width": null
          }
        },
        "6e8b81bcaaab4068b2a8bef03e12bcda": {
          "model_module": "@jupyter-widgets/controls",
          "model_name": "DescriptionStyleModel",
          "model_module_version": "1.5.0",
          "state": {
            "_model_module": "@jupyter-widgets/controls",
            "_model_module_version": "1.5.0",
            "_model_name": "DescriptionStyleModel",
            "_view_count": null,
            "_view_module": "@jupyter-widgets/base",
            "_view_module_version": "1.2.0",
            "_view_name": "StyleView",
            "description_width": ""
          }
        },
        "fac83ac8f35c481e9106413382c0782e": {
          "model_module": "@jupyter-widgets/base",
          "model_name": "LayoutModel",
          "model_module_version": "1.2.0",
          "state": {
            "_model_module": "@jupyter-widgets/base",
            "_model_module_version": "1.2.0",
            "_model_name": "LayoutModel",
            "_view_count": null,
            "_view_module": "@jupyter-widgets/base",
            "_view_module_version": "1.2.0",
            "_view_name": "LayoutView",
            "align_content": null,
            "align_items": null,
            "align_self": null,
            "border": null,
            "bottom": null,
            "display": null,
            "flex": null,
            "flex_flow": null,
            "grid_area": null,
            "grid_auto_columns": null,
            "grid_auto_flow": null,
            "grid_auto_rows": null,
            "grid_column": null,
            "grid_gap": null,
            "grid_row": null,
            "grid_template_areas": null,
            "grid_template_columns": null,
            "grid_template_rows": null,
            "height": null,
            "justify_content": null,
            "justify_items": null,
            "left": null,
            "margin": null,
            "max_height": null,
            "max_width": null,
            "min_height": null,
            "min_width": null,
            "object_fit": null,
            "object_position": null,
            "order": null,
            "overflow": null,
            "overflow_x": null,
            "overflow_y": null,
            "padding": null,
            "right": null,
            "top": null,
            "visibility": null,
            "width": null
          }
        },
        "67270b625b134424be2a241e0b95a69a": {
          "model_module": "@jupyter-widgets/controls",
          "model_name": "ProgressStyleModel",
          "model_module_version": "1.5.0",
          "state": {
            "_model_module": "@jupyter-widgets/controls",
            "_model_module_version": "1.5.0",
            "_model_name": "ProgressStyleModel",
            "_view_count": null,
            "_view_module": "@jupyter-widgets/base",
            "_view_module_version": "1.2.0",
            "_view_name": "StyleView",
            "bar_color": null,
            "description_width": ""
          }
        },
        "b0439a50a6ea4fc7bd12faae0538449f": {
          "model_module": "@jupyter-widgets/base",
          "model_name": "LayoutModel",
          "model_module_version": "1.2.0",
          "state": {
            "_model_module": "@jupyter-widgets/base",
            "_model_module_version": "1.2.0",
            "_model_name": "LayoutModel",
            "_view_count": null,
            "_view_module": "@jupyter-widgets/base",
            "_view_module_version": "1.2.0",
            "_view_name": "LayoutView",
            "align_content": null,
            "align_items": null,
            "align_self": null,
            "border": null,
            "bottom": null,
            "display": null,
            "flex": null,
            "flex_flow": null,
            "grid_area": null,
            "grid_auto_columns": null,
            "grid_auto_flow": null,
            "grid_auto_rows": null,
            "grid_column": null,
            "grid_gap": null,
            "grid_row": null,
            "grid_template_areas": null,
            "grid_template_columns": null,
            "grid_template_rows": null,
            "height": null,
            "justify_content": null,
            "justify_items": null,
            "left": null,
            "margin": null,
            "max_height": null,
            "max_width": null,
            "min_height": null,
            "min_width": null,
            "object_fit": null,
            "object_position": null,
            "order": null,
            "overflow": null,
            "overflow_x": null,
            "overflow_y": null,
            "padding": null,
            "right": null,
            "top": null,
            "visibility": null,
            "width": null
          }
        },
        "c6c17fd367e84ee4a3cd92ff3cde1237": {
          "model_module": "@jupyter-widgets/controls",
          "model_name": "DescriptionStyleModel",
          "model_module_version": "1.5.0",
          "state": {
            "_model_module": "@jupyter-widgets/controls",
            "_model_module_version": "1.5.0",
            "_model_name": "DescriptionStyleModel",
            "_view_count": null,
            "_view_module": "@jupyter-widgets/base",
            "_view_module_version": "1.2.0",
            "_view_name": "StyleView",
            "description_width": ""
          }
        }
      }
    }
  },
  "nbformat": 4,
  "nbformat_minor": 0
}